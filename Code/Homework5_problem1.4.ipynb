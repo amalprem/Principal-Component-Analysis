{
 "cells": [
  {
   "cell_type": "code",
   "execution_count": 7,
   "id": "99d92038",
   "metadata": {},
   "outputs": [],
   "source": [
    "import pandas as pd\n",
    "import swifter\n",
    "import matplotlib.pyplot as plt\n",
    "import seaborn as sns\n",
    "from sklearn.preprocessing import LabelEncoder\n",
    "from tqdm import tqdm\n",
    "import numpy as np\n",
    "from sklearn.preprocessing import StandardScaler\n",
    "from numpy import linalg as LA\n",
    "import warnings\n",
    "from scipy.spatial.distance import euclidean"
   ]
  },
  {
   "cell_type": "code",
   "execution_count": 2,
   "id": "40eacf5a",
   "metadata": {},
   "outputs": [],
   "source": [
    "\n",
    "df_data= pd.read_csv('TCGA-PANCAN-HiSeq-801x20531/data.csv')\n",
    "df_label=pd.read_csv('TCGA-PANCAN-HiSeq-801x20531/labels.csv')"
   ]
  },
  {
   "cell_type": "code",
   "execution_count": 3,
   "id": "e83244a8",
   "metadata": {},
   "outputs": [],
   "source": [
    "df_data.drop(columns=['Unnamed: 0'],inplace=True)\n",
    "df_label.drop(columns=['Unnamed: 0'],inplace=True)"
   ]
  },
  {
   "cell_type": "code",
   "execution_count": 4,
   "id": "8139a37f",
   "metadata": {},
   "outputs": [
    {
     "data": {
      "text/html": [
       "<div>\n",
       "<style scoped>\n",
       "    .dataframe tbody tr th:only-of-type {\n",
       "        vertical-align: middle;\n",
       "    }\n",
       "\n",
       "    .dataframe tbody tr th {\n",
       "        vertical-align: top;\n",
       "    }\n",
       "\n",
       "    .dataframe thead th {\n",
       "        text-align: right;\n",
       "    }\n",
       "</style>\n",
       "<table border=\"1\" class=\"dataframe\">\n",
       "  <thead>\n",
       "    <tr style=\"text-align: right;\">\n",
       "      <th></th>\n",
       "      <th>gene_0</th>\n",
       "      <th>gene_1</th>\n",
       "      <th>gene_2</th>\n",
       "      <th>gene_3</th>\n",
       "      <th>gene_4</th>\n",
       "      <th>gene_5</th>\n",
       "      <th>gene_6</th>\n",
       "      <th>gene_7</th>\n",
       "      <th>gene_8</th>\n",
       "      <th>gene_9</th>\n",
       "      <th>...</th>\n",
       "      <th>gene_20522</th>\n",
       "      <th>gene_20523</th>\n",
       "      <th>gene_20524</th>\n",
       "      <th>gene_20525</th>\n",
       "      <th>gene_20526</th>\n",
       "      <th>gene_20527</th>\n",
       "      <th>gene_20528</th>\n",
       "      <th>gene_20529</th>\n",
       "      <th>gene_20530</th>\n",
       "      <th>Class</th>\n",
       "    </tr>\n",
       "  </thead>\n",
       "  <tbody>\n",
       "    <tr>\n",
       "      <th>0</th>\n",
       "      <td>0.0</td>\n",
       "      <td>2.017209</td>\n",
       "      <td>3.265527</td>\n",
       "      <td>5.478487</td>\n",
       "      <td>10.431999</td>\n",
       "      <td>0.0</td>\n",
       "      <td>7.175175</td>\n",
       "      <td>0.591871</td>\n",
       "      <td>0.0</td>\n",
       "      <td>0.0</td>\n",
       "      <td>...</td>\n",
       "      <td>8.210257</td>\n",
       "      <td>9.723516</td>\n",
       "      <td>7.220030</td>\n",
       "      <td>9.119813</td>\n",
       "      <td>12.003135</td>\n",
       "      <td>9.650743</td>\n",
       "      <td>8.921326</td>\n",
       "      <td>5.286759</td>\n",
       "      <td>0.000000</td>\n",
       "      <td>4</td>\n",
       "    </tr>\n",
       "    <tr>\n",
       "      <th>1</th>\n",
       "      <td>0.0</td>\n",
       "      <td>0.592732</td>\n",
       "      <td>1.588421</td>\n",
       "      <td>7.586157</td>\n",
       "      <td>9.623011</td>\n",
       "      <td>0.0</td>\n",
       "      <td>6.816049</td>\n",
       "      <td>0.000000</td>\n",
       "      <td>0.0</td>\n",
       "      <td>0.0</td>\n",
       "      <td>...</td>\n",
       "      <td>7.323865</td>\n",
       "      <td>9.740931</td>\n",
       "      <td>6.256586</td>\n",
       "      <td>8.381612</td>\n",
       "      <td>12.674552</td>\n",
       "      <td>10.517059</td>\n",
       "      <td>9.397854</td>\n",
       "      <td>2.094168</td>\n",
       "      <td>0.000000</td>\n",
       "      <td>3</td>\n",
       "    </tr>\n",
       "    <tr>\n",
       "      <th>2</th>\n",
       "      <td>0.0</td>\n",
       "      <td>3.511759</td>\n",
       "      <td>4.327199</td>\n",
       "      <td>6.881787</td>\n",
       "      <td>9.870730</td>\n",
       "      <td>0.0</td>\n",
       "      <td>6.972130</td>\n",
       "      <td>0.452595</td>\n",
       "      <td>0.0</td>\n",
       "      <td>0.0</td>\n",
       "      <td>...</td>\n",
       "      <td>8.127123</td>\n",
       "      <td>10.908640</td>\n",
       "      <td>5.401607</td>\n",
       "      <td>9.911597</td>\n",
       "      <td>9.045255</td>\n",
       "      <td>9.788359</td>\n",
       "      <td>10.090470</td>\n",
       "      <td>1.683023</td>\n",
       "      <td>0.000000</td>\n",
       "      <td>4</td>\n",
       "    </tr>\n",
       "    <tr>\n",
       "      <th>3</th>\n",
       "      <td>0.0</td>\n",
       "      <td>3.663618</td>\n",
       "      <td>4.507649</td>\n",
       "      <td>6.659068</td>\n",
       "      <td>10.196184</td>\n",
       "      <td>0.0</td>\n",
       "      <td>7.843375</td>\n",
       "      <td>0.434882</td>\n",
       "      <td>0.0</td>\n",
       "      <td>0.0</td>\n",
       "      <td>...</td>\n",
       "      <td>8.792959</td>\n",
       "      <td>10.141520</td>\n",
       "      <td>8.942805</td>\n",
       "      <td>9.601208</td>\n",
       "      <td>11.392682</td>\n",
       "      <td>9.694814</td>\n",
       "      <td>9.684365</td>\n",
       "      <td>3.292001</td>\n",
       "      <td>0.000000</td>\n",
       "      <td>4</td>\n",
       "    </tr>\n",
       "    <tr>\n",
       "      <th>4</th>\n",
       "      <td>0.0</td>\n",
       "      <td>2.655741</td>\n",
       "      <td>2.821547</td>\n",
       "      <td>6.539454</td>\n",
       "      <td>9.738265</td>\n",
       "      <td>0.0</td>\n",
       "      <td>6.566967</td>\n",
       "      <td>0.360982</td>\n",
       "      <td>0.0</td>\n",
       "      <td>0.0</td>\n",
       "      <td>...</td>\n",
       "      <td>8.891425</td>\n",
       "      <td>10.373790</td>\n",
       "      <td>7.181162</td>\n",
       "      <td>9.846910</td>\n",
       "      <td>11.922439</td>\n",
       "      <td>9.217749</td>\n",
       "      <td>9.461191</td>\n",
       "      <td>5.110372</td>\n",
       "      <td>0.000000</td>\n",
       "      <td>0</td>\n",
       "    </tr>\n",
       "    <tr>\n",
       "      <th>...</th>\n",
       "      <td>...</td>\n",
       "      <td>...</td>\n",
       "      <td>...</td>\n",
       "      <td>...</td>\n",
       "      <td>...</td>\n",
       "      <td>...</td>\n",
       "      <td>...</td>\n",
       "      <td>...</td>\n",
       "      <td>...</td>\n",
       "      <td>...</td>\n",
       "      <td>...</td>\n",
       "      <td>...</td>\n",
       "      <td>...</td>\n",
       "      <td>...</td>\n",
       "      <td>...</td>\n",
       "      <td>...</td>\n",
       "      <td>...</td>\n",
       "      <td>...</td>\n",
       "      <td>...</td>\n",
       "      <td>...</td>\n",
       "      <td>...</td>\n",
       "    </tr>\n",
       "    <tr>\n",
       "      <th>796</th>\n",
       "      <td>0.0</td>\n",
       "      <td>1.865642</td>\n",
       "      <td>2.718197</td>\n",
       "      <td>7.350099</td>\n",
       "      <td>10.006003</td>\n",
       "      <td>0.0</td>\n",
       "      <td>6.764792</td>\n",
       "      <td>0.496922</td>\n",
       "      <td>0.0</td>\n",
       "      <td>0.0</td>\n",
       "      <td>...</td>\n",
       "      <td>9.118313</td>\n",
       "      <td>10.004852</td>\n",
       "      <td>4.484415</td>\n",
       "      <td>9.614701</td>\n",
       "      <td>12.031267</td>\n",
       "      <td>9.813063</td>\n",
       "      <td>10.092770</td>\n",
       "      <td>8.819269</td>\n",
       "      <td>0.000000</td>\n",
       "      <td>0</td>\n",
       "    </tr>\n",
       "    <tr>\n",
       "      <th>797</th>\n",
       "      <td>0.0</td>\n",
       "      <td>3.942955</td>\n",
       "      <td>4.453807</td>\n",
       "      <td>6.346597</td>\n",
       "      <td>10.056868</td>\n",
       "      <td>0.0</td>\n",
       "      <td>7.320331</td>\n",
       "      <td>0.000000</td>\n",
       "      <td>0.0</td>\n",
       "      <td>0.0</td>\n",
       "      <td>...</td>\n",
       "      <td>9.623335</td>\n",
       "      <td>9.823921</td>\n",
       "      <td>6.555327</td>\n",
       "      <td>9.064002</td>\n",
       "      <td>11.633422</td>\n",
       "      <td>10.317266</td>\n",
       "      <td>8.745983</td>\n",
       "      <td>9.659081</td>\n",
       "      <td>0.000000</td>\n",
       "      <td>3</td>\n",
       "    </tr>\n",
       "    <tr>\n",
       "      <th>798</th>\n",
       "      <td>0.0</td>\n",
       "      <td>3.249582</td>\n",
       "      <td>3.707492</td>\n",
       "      <td>8.185901</td>\n",
       "      <td>9.504082</td>\n",
       "      <td>0.0</td>\n",
       "      <td>7.536589</td>\n",
       "      <td>1.811101</td>\n",
       "      <td>0.0</td>\n",
       "      <td>0.0</td>\n",
       "      <td>...</td>\n",
       "      <td>8.610704</td>\n",
       "      <td>10.485517</td>\n",
       "      <td>3.589763</td>\n",
       "      <td>9.350636</td>\n",
       "      <td>12.180944</td>\n",
       "      <td>10.681194</td>\n",
       "      <td>9.466711</td>\n",
       "      <td>4.677458</td>\n",
       "      <td>0.586693</td>\n",
       "      <td>1</td>\n",
       "    </tr>\n",
       "    <tr>\n",
       "      <th>799</th>\n",
       "      <td>0.0</td>\n",
       "      <td>2.590339</td>\n",
       "      <td>2.787976</td>\n",
       "      <td>7.318624</td>\n",
       "      <td>9.987136</td>\n",
       "      <td>0.0</td>\n",
       "      <td>9.213464</td>\n",
       "      <td>0.000000</td>\n",
       "      <td>0.0</td>\n",
       "      <td>0.0</td>\n",
       "      <td>...</td>\n",
       "      <td>8.605387</td>\n",
       "      <td>11.004677</td>\n",
       "      <td>4.745888</td>\n",
       "      <td>9.626383</td>\n",
       "      <td>11.198279</td>\n",
       "      <td>10.335513</td>\n",
       "      <td>10.400581</td>\n",
       "      <td>5.718751</td>\n",
       "      <td>0.000000</td>\n",
       "      <td>4</td>\n",
       "    </tr>\n",
       "    <tr>\n",
       "      <th>800</th>\n",
       "      <td>0.0</td>\n",
       "      <td>2.325242</td>\n",
       "      <td>3.805932</td>\n",
       "      <td>6.530246</td>\n",
       "      <td>9.560367</td>\n",
       "      <td>0.0</td>\n",
       "      <td>7.957027</td>\n",
       "      <td>0.000000</td>\n",
       "      <td>0.0</td>\n",
       "      <td>0.0</td>\n",
       "      <td>...</td>\n",
       "      <td>8.594354</td>\n",
       "      <td>10.243079</td>\n",
       "      <td>9.139459</td>\n",
       "      <td>10.102934</td>\n",
       "      <td>11.641081</td>\n",
       "      <td>10.607358</td>\n",
       "      <td>9.844794</td>\n",
       "      <td>4.550716</td>\n",
       "      <td>0.000000</td>\n",
       "      <td>4</td>\n",
       "    </tr>\n",
       "  </tbody>\n",
       "</table>\n",
       "<p>801 rows × 20532 columns</p>\n",
       "</div>"
      ],
      "text/plain": [
       "     gene_0    gene_1    gene_2    gene_3     gene_4  gene_5    gene_6  \\\n",
       "0       0.0  2.017209  3.265527  5.478487  10.431999     0.0  7.175175   \n",
       "1       0.0  0.592732  1.588421  7.586157   9.623011     0.0  6.816049   \n",
       "2       0.0  3.511759  4.327199  6.881787   9.870730     0.0  6.972130   \n",
       "3       0.0  3.663618  4.507649  6.659068  10.196184     0.0  7.843375   \n",
       "4       0.0  2.655741  2.821547  6.539454   9.738265     0.0  6.566967   \n",
       "..      ...       ...       ...       ...        ...     ...       ...   \n",
       "796     0.0  1.865642  2.718197  7.350099  10.006003     0.0  6.764792   \n",
       "797     0.0  3.942955  4.453807  6.346597  10.056868     0.0  7.320331   \n",
       "798     0.0  3.249582  3.707492  8.185901   9.504082     0.0  7.536589   \n",
       "799     0.0  2.590339  2.787976  7.318624   9.987136     0.0  9.213464   \n",
       "800     0.0  2.325242  3.805932  6.530246   9.560367     0.0  7.957027   \n",
       "\n",
       "       gene_7  gene_8  gene_9  ...  gene_20522  gene_20523  gene_20524  \\\n",
       "0    0.591871     0.0     0.0  ...    8.210257    9.723516    7.220030   \n",
       "1    0.000000     0.0     0.0  ...    7.323865    9.740931    6.256586   \n",
       "2    0.452595     0.0     0.0  ...    8.127123   10.908640    5.401607   \n",
       "3    0.434882     0.0     0.0  ...    8.792959   10.141520    8.942805   \n",
       "4    0.360982     0.0     0.0  ...    8.891425   10.373790    7.181162   \n",
       "..        ...     ...     ...  ...         ...         ...         ...   \n",
       "796  0.496922     0.0     0.0  ...    9.118313   10.004852    4.484415   \n",
       "797  0.000000     0.0     0.0  ...    9.623335    9.823921    6.555327   \n",
       "798  1.811101     0.0     0.0  ...    8.610704   10.485517    3.589763   \n",
       "799  0.000000     0.0     0.0  ...    8.605387   11.004677    4.745888   \n",
       "800  0.000000     0.0     0.0  ...    8.594354   10.243079    9.139459   \n",
       "\n",
       "     gene_20525  gene_20526  gene_20527  gene_20528  gene_20529  gene_20530  \\\n",
       "0      9.119813   12.003135    9.650743    8.921326    5.286759    0.000000   \n",
       "1      8.381612   12.674552   10.517059    9.397854    2.094168    0.000000   \n",
       "2      9.911597    9.045255    9.788359   10.090470    1.683023    0.000000   \n",
       "3      9.601208   11.392682    9.694814    9.684365    3.292001    0.000000   \n",
       "4      9.846910   11.922439    9.217749    9.461191    5.110372    0.000000   \n",
       "..          ...         ...         ...         ...         ...         ...   \n",
       "796    9.614701   12.031267    9.813063   10.092770    8.819269    0.000000   \n",
       "797    9.064002   11.633422   10.317266    8.745983    9.659081    0.000000   \n",
       "798    9.350636   12.180944   10.681194    9.466711    4.677458    0.586693   \n",
       "799    9.626383   11.198279   10.335513   10.400581    5.718751    0.000000   \n",
       "800   10.102934   11.641081   10.607358    9.844794    4.550716    0.000000   \n",
       "\n",
       "     Class  \n",
       "0        4  \n",
       "1        3  \n",
       "2        4  \n",
       "3        4  \n",
       "4        0  \n",
       "..     ...  \n",
       "796      0  \n",
       "797      3  \n",
       "798      1  \n",
       "799      4  \n",
       "800      4  \n",
       "\n",
       "[801 rows x 20532 columns]"
      ]
     },
     "execution_count": 4,
     "metadata": {},
     "output_type": "execute_result"
    }
   ],
   "source": [
    "df_label['Class'] = LabelEncoder().fit_transform(df_label['Class'])\n",
    "\n",
    "df= df_data.join(df_label)\n",
    "df"
   ]
  },
  {
   "cell_type": "markdown",
   "id": "034ec2ac",
   "metadata": {},
   "source": [
    "# Kmeans Clustering"
   ]
  },
  {
   "cell_type": "code",
   "execution_count": 5,
   "id": "5adad7a2",
   "metadata": {},
   "outputs": [],
   "source": [
    "import time\n",
    "def initialize_centroids(df, k):\n",
    "    \"\"\"\n",
    "    Function to initialize random centroids from dataset.\n",
    "    Input: \n",
    "        - df: pandas dataframe with the data\n",
    "        - k: integer number of clusters\n",
    "    Output: \n",
    "        - temp_df: pandas dataframe with the centroids as columns and index as label\n",
    "    \"\"\"\n",
    "    centroids = []\n",
    "    for i in range(k):\n",
    "        centroids.append(df.apply(lambda x: float(x.sample()))) # Take a random sample from each column to create a centroid\n",
    "    centroids = pd.concat(centroids, axis=1)\n",
    "    centroids.index.name = 'Label'\n",
    "\n",
    "    return centroids\n",
    "\n",
    "\n",
    "def assign_labels(df, centroids):\n",
    "    \"\"\"\n",
    "    Function to calculate the closest centroid label for each row in a dataframe.\n",
    "    Input: \n",
    "        - df: pandas dataframe with the data\n",
    "        - centroids: pandas dataframe with the centroids as columns and index as label\n",
    "    Output: \n",
    "        - distances.idxmin(axis=1): pandas series with the label of the closest centroid for each row in df\n",
    "    \"\"\"\n",
    "    distances = centroids.swifter.apply(lambda x: np.sqrt(((df - x) ** 2).sum(axis=1))) # Calculate the Euclidean distance between each row in df and each centroid\n",
    "    return distances.idxmin(axis=1) # Get the index of the minimum distance, which corresponds to the label of the closest centroid\n",
    "\n",
    "\n",
    "def new_centroids(df_label, df1):\n",
    "    \"\"\"\n",
    "    Function to calculate the new centroids based on the current labels of the rows.\n",
    "    Input: \n",
    "        - df_label: pandas series with the label of the closest centroid for each row in df1\n",
    "        - df1: pandas dataframe with the data\n",
    "    Output: \n",
    "        - new_centroids.T: pandas dataframe with the new centroids as columns and index as feature name\n",
    "    \"\"\"\n",
    "    joined_df = df1.join(df_label)\n",
    "    joined_df.rename(columns={0: 'Label'}, inplace=True) # Rename the column with the label\n",
    "    # Calculate the mean of the rows with the same label\n",
    "    return joined_df.groupby('Label').mean().T # Transpose the dataframe to have the new centroids as columns and index as feature name\n",
    "\n",
    "\n",
    "def sum_of_square_error(new_centroids, data, labels):\n",
    "    \"\"\"\n",
    "    Computes the sum of squared errors between the data points and their assigned centroids.\n",
    "\n",
    "    Args:\n",
    "    new_centroids (DataFrame): The new centroids computed in the current iteration.\n",
    "    data (DataFrame): The input data points.\n",
    "    labels (DataFrame): The labels assigned to each data point.\n",
    "\n",
    "    Returns:\n",
    "    The sum of squared errors.\n",
    "    \"\"\"\n",
    "    # Transpose the new centroids dataframe and reset the index\n",
    "    new_centroids = new_centroids.T.reset_index()\n",
    "    # Get the columns of the data dataframe\n",
    "    columns = data.columns\n",
    "    # Join the data dataframe and the labels dataframe\n",
    "    data = data.join(labels)\n",
    "    # Rename the '0' column of the labels dataframe to 'Label'\n",
    "    data.rename(columns={0:'Label'}, inplace=True)\n",
    "    sse = []\n",
    "    # Compute the distance between each data point and its assigned centroid\n",
    "    for i in range(len(new_centroids)):\n",
    "        distance = np.sum(np.square(data[data['Label']==i][columns] - new_centroids.iloc[i][columns]), axis=1)\n",
    "        sse.append(sum(distance))\n",
    "    # Return the sum of squared errors\n",
    "    return sum(sse)   \n",
    "\n",
    "def kmeans_lyod_with_error(df1, k, tou):\n",
    "    \"\"\"\n",
    "    Function to run the K-means Lloyd algorithm.\n",
    "    Input: \n",
    "        - df1: pandas dataframe with the data\n",
    "        - k: integer number of clusters\n",
    "        - tou: float tolerance level to stop the algorithm\n",
    "    Output: \n",
    "        - centroids: pandas dataframe with the final centroids as columns and index as label\n",
    "    \"\"\"\n",
    "    start_time=time.time()\n",
    "    centroids = initialize_centroids(df1, k) # Initialize random centroids\n",
    "    initial_list_of_columns = centroids.columns.to_list()\n",
    "    iteration = 0\n",
    "    while True:\n",
    "        # Assign labels to current centroids\n",
    "        df_label = assign_labels(df1, centroids)\n",
    "        df_label = pd.DataFrame(df_label)\n",
    "        # Calculate new centroids\n",
    "        df_new_centroids = new_centroids(df_label, df1)\n",
    "        new_list_of_columns = df_new_centroids.columns.to_list()\n",
    "        # Keep the number of clusters the same i.e maintain same k\n",
    "        for i in initial_list_of_columns:\n",
    "            if i not in new_list_of_columns:\n",
    "                df_new_centroids[i] = centroids[i]\n",
    "        # Calculate tao\n",
    "        distance = []\n",
    "        for col in centroids.columns:\n",
    "            col_distance = euclidean(centroids[col], df_new_centroids[col])\n",
    "            distance.append(col_distance)\n",
    "        tao_calculated=sum(distance)/k #Used the formula provided for calculating Tao\n",
    "        sse = sum_of_square_error(df_new_centroids, df1, df_label)\n",
    "        #error=error_clusters(df_label,df1,k)\n",
    "        end_time= time.time()\n",
    "        if iteration>100:  \n",
    "            print(\"Iteration exceeded\")\n",
    "\n",
    "            return  sse,end_time-start_time\n",
    "            break\n",
    "            \n",
    "        if tao_calculated<tou or iteration >100:   #if the convergence is met, kmeans will stop  or else if the convergence is never met, after 100 iteration code will stop \n",
    "            return  sse,end_time-start_time\n",
    "            break                                   # otherwise indefinite loop\n",
    "        else:\n",
    "            centroids= df_new_centroids # In case we need more iterations, the centroids calculated at this step acts as input\n",
    "        iteration+=1\n",
    "\n"
   ]
  },
  {
   "cell_type": "markdown",
   "id": "d5a78eae",
   "metadata": {},
   "source": [
    "# Applying Kmeans Clustering on complete data, before PCA"
   ]
  },
  {
   "cell_type": "code",
   "execution_count": 9,
   "id": "5cb20a04",
   "metadata": {},
   "outputs": [
    {
     "data": {
      "application/vnd.jupyter.widget-view+json": {
       "model_id": "52220aeb93ec4bf195fc4d06a0c679bf",
       "version_major": 2,
       "version_minor": 0
      },
      "text/plain": [
       "Pandas Apply:   0%|          | 0/5 [00:00<?, ?it/s]"
      ]
     },
     "metadata": {},
     "output_type": "display_data"
    },
    {
     "data": {
      "application/vnd.jupyter.widget-view+json": {
       "model_id": "854d5a77186c4593b1193629360d980a",
       "version_major": 2,
       "version_minor": 0
      },
      "text/plain": [
       "Pandas Apply:   0%|          | 0/5 [00:00<?, ?it/s]"
      ]
     },
     "metadata": {},
     "output_type": "display_data"
    },
    {
     "data": {
      "application/vnd.jupyter.widget-view+json": {
       "model_id": "5b038ab3b34143069dcfb3410601d4e7",
       "version_major": 2,
       "version_minor": 0
      },
      "text/plain": [
       "Pandas Apply:   0%|          | 0/5 [00:00<?, ?it/s]"
      ]
     },
     "metadata": {},
     "output_type": "display_data"
    },
    {
     "data": {
      "application/vnd.jupyter.widget-view+json": {
       "model_id": "7b1fffce9a334829829405a0c53e6d7e",
       "version_major": 2,
       "version_minor": 0
      },
      "text/plain": [
       "Pandas Apply:   0%|          | 0/5 [00:00<?, ?it/s]"
      ]
     },
     "metadata": {},
     "output_type": "display_data"
    },
    {
     "data": {
      "application/vnd.jupyter.widget-view+json": {
       "model_id": "d86947540af04f159cf6d232ff4b28f3",
       "version_major": 2,
       "version_minor": 0
      },
      "text/plain": [
       "Pandas Apply:   0%|          | 0/5 [00:00<?, ?it/s]"
      ]
     },
     "metadata": {},
     "output_type": "display_data"
    },
    {
     "data": {
      "application/vnd.jupyter.widget-view+json": {
       "model_id": "73cab38ec2bf441c81412d2b537d84dc",
       "version_major": 2,
       "version_minor": 0
      },
      "text/plain": [
       "Pandas Apply:   0%|          | 0/5 [00:00<?, ?it/s]"
      ]
     },
     "metadata": {},
     "output_type": "display_data"
    },
    {
     "data": {
      "application/vnd.jupyter.widget-view+json": {
       "model_id": "39ba8ea2faf0485a80c93cf0e696b393",
       "version_major": 2,
       "version_minor": 0
      },
      "text/plain": [
       "Pandas Apply:   0%|          | 0/5 [00:00<?, ?it/s]"
      ]
     },
     "metadata": {},
     "output_type": "display_data"
    },
    {
     "data": {
      "application/vnd.jupyter.widget-view+json": {
       "model_id": "b2c1e49e40d34d3680cfef6d1db05266",
       "version_major": 2,
       "version_minor": 0
      },
      "text/plain": [
       "Pandas Apply:   0%|          | 0/5 [00:00<?, ?it/s]"
      ]
     },
     "metadata": {},
     "output_type": "display_data"
    },
    {
     "data": {
      "application/vnd.jupyter.widget-view+json": {
       "model_id": "1fec1b41de38405db8497d40b71b6c7e",
       "version_major": 2,
       "version_minor": 0
      },
      "text/plain": [
       "Pandas Apply:   0%|          | 0/5 [00:00<?, ?it/s]"
      ]
     },
     "metadata": {},
     "output_type": "display_data"
    },
    {
     "data": {
      "application/vnd.jupyter.widget-view+json": {
       "model_id": "9db68ccc54c44d7cb9245dfe3cf97876",
       "version_major": 2,
       "version_minor": 0
      },
      "text/plain": [
       "Pandas Apply:   0%|          | 0/5 [00:00<?, ?it/s]"
      ]
     },
     "metadata": {},
     "output_type": "display_data"
    },
    {
     "data": {
      "application/vnd.jupyter.widget-view+json": {
       "model_id": "55ac2d0e91fa44d7b9333804205f628a",
       "version_major": 2,
       "version_minor": 0
      },
      "text/plain": [
       "Pandas Apply:   0%|          | 0/5 [00:00<?, ?it/s]"
      ]
     },
     "metadata": {},
     "output_type": "display_data"
    },
    {
     "data": {
      "application/vnd.jupyter.widget-view+json": {
       "model_id": "fa6dd5c918df49408fb27eda218463de",
       "version_major": 2,
       "version_minor": 0
      },
      "text/plain": [
       "Pandas Apply:   0%|          | 0/5 [00:00<?, ?it/s]"
      ]
     },
     "metadata": {},
     "output_type": "display_data"
    },
    {
     "data": {
      "application/vnd.jupyter.widget-view+json": {
       "model_id": "784a5d36a93742da9d39ae9f81c3823a",
       "version_major": 2,
       "version_minor": 0
      },
      "text/plain": [
       "Pandas Apply:   0%|          | 0/5 [00:00<?, ?it/s]"
      ]
     },
     "metadata": {},
     "output_type": "display_data"
    },
    {
     "data": {
      "application/vnd.jupyter.widget-view+json": {
       "model_id": "bd85d452bcb940a29adeaa94d96a8f6d",
       "version_major": 2,
       "version_minor": 0
      },
      "text/plain": [
       "Pandas Apply:   0%|          | 0/5 [00:00<?, ?it/s]"
      ]
     },
     "metadata": {},
     "output_type": "display_data"
    },
    {
     "data": {
      "application/vnd.jupyter.widget-view+json": {
       "model_id": "72a574855a7c411487814a24b135610b",
       "version_major": 2,
       "version_minor": 0
      },
      "text/plain": [
       "Pandas Apply:   0%|          | 0/5 [00:00<?, ?it/s]"
      ]
     },
     "metadata": {},
     "output_type": "display_data"
    },
    {
     "data": {
      "application/vnd.jupyter.widget-view+json": {
       "model_id": "f1035a3839f0476c9d916931970f0eb3",
       "version_major": 2,
       "version_minor": 0
      },
      "text/plain": [
       "Pandas Apply:   0%|          | 0/5 [00:00<?, ?it/s]"
      ]
     },
     "metadata": {},
     "output_type": "display_data"
    },
    {
     "data": {
      "application/vnd.jupyter.widget-view+json": {
       "model_id": "f3ae9109fb684959b46ca247679ded18",
       "version_major": 2,
       "version_minor": 0
      },
      "text/plain": [
       "Pandas Apply:   0%|          | 0/5 [00:00<?, ?it/s]"
      ]
     },
     "metadata": {},
     "output_type": "display_data"
    },
    {
     "data": {
      "application/vnd.jupyter.widget-view+json": {
       "model_id": "b2ec3550c70445fbad3d65b1065a7767",
       "version_major": 2,
       "version_minor": 0
      },
      "text/plain": [
       "Pandas Apply:   0%|          | 0/5 [00:00<?, ?it/s]"
      ]
     },
     "metadata": {},
     "output_type": "display_data"
    },
    {
     "data": {
      "application/vnd.jupyter.widget-view+json": {
       "model_id": "7a9b265dffb84af19ab2874f9e32f68e",
       "version_major": 2,
       "version_minor": 0
      },
      "text/plain": [
       "Pandas Apply:   0%|          | 0/5 [00:00<?, ?it/s]"
      ]
     },
     "metadata": {},
     "output_type": "display_data"
    },
    {
     "data": {
      "application/vnd.jupyter.widget-view+json": {
       "model_id": "119f14a33d5e418aa31d3885888fb29c",
       "version_major": 2,
       "version_minor": 0
      },
      "text/plain": [
       "Pandas Apply:   0%|          | 0/5 [00:00<?, ?it/s]"
      ]
     },
     "metadata": {},
     "output_type": "display_data"
    },
    {
     "data": {
      "application/vnd.jupyter.widget-view+json": {
       "model_id": "21414784547a4aa2893248c257e8cafb",
       "version_major": 2,
       "version_minor": 0
      },
      "text/plain": [
       "Pandas Apply:   0%|          | 0/5 [00:00<?, ?it/s]"
      ]
     },
     "metadata": {},
     "output_type": "display_data"
    },
    {
     "data": {
      "application/vnd.jupyter.widget-view+json": {
       "model_id": "0d7f1e9b237244a68c5e76091334fc17",
       "version_major": 2,
       "version_minor": 0
      },
      "text/plain": [
       "Pandas Apply:   0%|          | 0/5 [00:00<?, ?it/s]"
      ]
     },
     "metadata": {},
     "output_type": "display_data"
    },
    {
     "data": {
      "application/vnd.jupyter.widget-view+json": {
       "model_id": "29c5c624bdb343238a37dec0001e9848",
       "version_major": 2,
       "version_minor": 0
      },
      "text/plain": [
       "Pandas Apply:   0%|          | 0/5 [00:00<?, ?it/s]"
      ]
     },
     "metadata": {},
     "output_type": "display_data"
    },
    {
     "data": {
      "application/vnd.jupyter.widget-view+json": {
       "model_id": "8677a530c5b4407882c32f3fd940397f",
       "version_major": 2,
       "version_minor": 0
      },
      "text/plain": [
       "Pandas Apply:   0%|          | 0/5 [00:00<?, ?it/s]"
      ]
     },
     "metadata": {},
     "output_type": "display_data"
    },
    {
     "data": {
      "application/vnd.jupyter.widget-view+json": {
       "model_id": "b0fdf0b876e24a74bb7cf7c11b77a0a8",
       "version_major": 2,
       "version_minor": 0
      },
      "text/plain": [
       "Pandas Apply:   0%|          | 0/5 [00:00<?, ?it/s]"
      ]
     },
     "metadata": {},
     "output_type": "display_data"
    },
    {
     "data": {
      "application/vnd.jupyter.widget-view+json": {
       "model_id": "313edb4880ad4c99a3643ab5dfec4d28",
       "version_major": 2,
       "version_minor": 0
      },
      "text/plain": [
       "Pandas Apply:   0%|          | 0/5 [00:00<?, ?it/s]"
      ]
     },
     "metadata": {},
     "output_type": "display_data"
    },
    {
     "data": {
      "application/vnd.jupyter.widget-view+json": {
       "model_id": "e9859b5b162541dbaafe9396d145463a",
       "version_major": 2,
       "version_minor": 0
      },
      "text/plain": [
       "Pandas Apply:   0%|          | 0/5 [00:00<?, ?it/s]"
      ]
     },
     "metadata": {},
     "output_type": "display_data"
    },
    {
     "data": {
      "application/vnd.jupyter.widget-view+json": {
       "model_id": "fa80129f3a224a2d971f91c4359420f4",
       "version_major": 2,
       "version_minor": 0
      },
      "text/plain": [
       "Pandas Apply:   0%|          | 0/5 [00:00<?, ?it/s]"
      ]
     },
     "metadata": {},
     "output_type": "display_data"
    },
    {
     "data": {
      "application/vnd.jupyter.widget-view+json": {
       "model_id": "ee688d8417f84c49aba6356d84fe73cd",
       "version_major": 2,
       "version_minor": 0
      },
      "text/plain": [
       "Pandas Apply:   0%|          | 0/5 [00:00<?, ?it/s]"
      ]
     },
     "metadata": {},
     "output_type": "display_data"
    },
    {
     "data": {
      "application/vnd.jupyter.widget-view+json": {
       "model_id": "db1a63a0f3074833ab46ee02582301eb",
       "version_major": 2,
       "version_minor": 0
      },
      "text/plain": [
       "Pandas Apply:   0%|          | 0/5 [00:00<?, ?it/s]"
      ]
     },
     "metadata": {},
     "output_type": "display_data"
    },
    {
     "data": {
      "application/vnd.jupyter.widget-view+json": {
       "model_id": "45e68b67b7774858b6ad11793efe34d0",
       "version_major": 2,
       "version_minor": 0
      },
      "text/plain": [
       "Pandas Apply:   0%|          | 0/5 [00:00<?, ?it/s]"
      ]
     },
     "metadata": {},
     "output_type": "display_data"
    },
    {
     "data": {
      "application/vnd.jupyter.widget-view+json": {
       "model_id": "b320af89255f4e01914f936f51d5e08c",
       "version_major": 2,
       "version_minor": 0
      },
      "text/plain": [
       "Pandas Apply:   0%|          | 0/5 [00:00<?, ?it/s]"
      ]
     },
     "metadata": {},
     "output_type": "display_data"
    },
    {
     "data": {
      "application/vnd.jupyter.widget-view+json": {
       "model_id": "224abd08691d4e54af115e6be17483ff",
       "version_major": 2,
       "version_minor": 0
      },
      "text/plain": [
       "Pandas Apply:   0%|          | 0/5 [00:00<?, ?it/s]"
      ]
     },
     "metadata": {},
     "output_type": "display_data"
    },
    {
     "data": {
      "application/vnd.jupyter.widget-view+json": {
       "model_id": "4c1a91a28c2b45dbaf16584ed4ece1e7",
       "version_major": 2,
       "version_minor": 0
      },
      "text/plain": [
       "Pandas Apply:   0%|          | 0/5 [00:00<?, ?it/s]"
      ]
     },
     "metadata": {},
     "output_type": "display_data"
    },
    {
     "data": {
      "application/vnd.jupyter.widget-view+json": {
       "model_id": "3982989b970543139fc11bb3916c80eb",
       "version_major": 2,
       "version_minor": 0
      },
      "text/plain": [
       "Pandas Apply:   0%|          | 0/5 [00:00<?, ?it/s]"
      ]
     },
     "metadata": {},
     "output_type": "display_data"
    },
    {
     "data": {
      "application/vnd.jupyter.widget-view+json": {
       "model_id": "7fe5f7dd39cb4658a86652290c3c88b3",
       "version_major": 2,
       "version_minor": 0
      },
      "text/plain": [
       "Pandas Apply:   0%|          | 0/5 [00:00<?, ?it/s]"
      ]
     },
     "metadata": {},
     "output_type": "display_data"
    },
    {
     "data": {
      "application/vnd.jupyter.widget-view+json": {
       "model_id": "872e348ceabb42e9a50a5ff4216a714b",
       "version_major": 2,
       "version_minor": 0
      },
      "text/plain": [
       "Pandas Apply:   0%|          | 0/5 [00:00<?, ?it/s]"
      ]
     },
     "metadata": {},
     "output_type": "display_data"
    },
    {
     "data": {
      "application/vnd.jupyter.widget-view+json": {
       "model_id": "e4db53a455824d0e9f9044999037643d",
       "version_major": 2,
       "version_minor": 0
      },
      "text/plain": [
       "Pandas Apply:   0%|          | 0/5 [00:00<?, ?it/s]"
      ]
     },
     "metadata": {},
     "output_type": "display_data"
    },
    {
     "data": {
      "application/vnd.jupyter.widget-view+json": {
       "model_id": "14993adf0cc6411087ffb0ccde02e96f",
       "version_major": 2,
       "version_minor": 0
      },
      "text/plain": [
       "Pandas Apply:   0%|          | 0/5 [00:00<?, ?it/s]"
      ]
     },
     "metadata": {},
     "output_type": "display_data"
    },
    {
     "data": {
      "application/vnd.jupyter.widget-view+json": {
       "model_id": "8da85ac4baea4a34be15c8d8604810f1",
       "version_major": 2,
       "version_minor": 0
      },
      "text/plain": [
       "Pandas Apply:   0%|          | 0/5 [00:00<?, ?it/s]"
      ]
     },
     "metadata": {},
     "output_type": "display_data"
    },
    {
     "data": {
      "application/vnd.jupyter.widget-view+json": {
       "model_id": "9de116efab2e4a8f9be4f343ace05e8b",
       "version_major": 2,
       "version_minor": 0
      },
      "text/plain": [
       "Pandas Apply:   0%|          | 0/5 [00:00<?, ?it/s]"
      ]
     },
     "metadata": {},
     "output_type": "display_data"
    },
    {
     "data": {
      "application/vnd.jupyter.widget-view+json": {
       "model_id": "0d6a4b7e8aa94e7abe742171ecb067e6",
       "version_major": 2,
       "version_minor": 0
      },
      "text/plain": [
       "Pandas Apply:   0%|          | 0/5 [00:00<?, ?it/s]"
      ]
     },
     "metadata": {},
     "output_type": "display_data"
    },
    {
     "data": {
      "application/vnd.jupyter.widget-view+json": {
       "model_id": "0c61ca25abcc452297f48683e421e9a9",
       "version_major": 2,
       "version_minor": 0
      },
      "text/plain": [
       "Pandas Apply:   0%|          | 0/5 [00:00<?, ?it/s]"
      ]
     },
     "metadata": {},
     "output_type": "display_data"
    },
    {
     "data": {
      "application/vnd.jupyter.widget-view+json": {
       "model_id": "f65c6794d9fe43649ed058de76240a30",
       "version_major": 2,
       "version_minor": 0
      },
      "text/plain": [
       "Pandas Apply:   0%|          | 0/5 [00:00<?, ?it/s]"
      ]
     },
     "metadata": {},
     "output_type": "display_data"
    },
    {
     "data": {
      "application/vnd.jupyter.widget-view+json": {
       "model_id": "abf6c221c4c0426bbe7802560075f076",
       "version_major": 2,
       "version_minor": 0
      },
      "text/plain": [
       "Pandas Apply:   0%|          | 0/5 [00:00<?, ?it/s]"
      ]
     },
     "metadata": {},
     "output_type": "display_data"
    },
    {
     "data": {
      "application/vnd.jupyter.widget-view+json": {
       "model_id": "ed3e5470ccec47fb916ab6e7e62948e8",
       "version_major": 2,
       "version_minor": 0
      },
      "text/plain": [
       "Pandas Apply:   0%|          | 0/5 [00:00<?, ?it/s]"
      ]
     },
     "metadata": {},
     "output_type": "display_data"
    },
    {
     "data": {
      "application/vnd.jupyter.widget-view+json": {
       "model_id": "fd6df474fce544c7a979c7c71b8a3dad",
       "version_major": 2,
       "version_minor": 0
      },
      "text/plain": [
       "Pandas Apply:   0%|          | 0/5 [00:00<?, ?it/s]"
      ]
     },
     "metadata": {},
     "output_type": "display_data"
    },
    {
     "data": {
      "application/vnd.jupyter.widget-view+json": {
       "model_id": "4c6ba01c594548e1a7de0de2243a05f4",
       "version_major": 2,
       "version_minor": 0
      },
      "text/plain": [
       "Pandas Apply:   0%|          | 0/5 [00:00<?, ?it/s]"
      ]
     },
     "metadata": {},
     "output_type": "display_data"
    },
    {
     "data": {
      "application/vnd.jupyter.widget-view+json": {
       "model_id": "c3189cd467b8423fb8a3ce8ee432f240",
       "version_major": 2,
       "version_minor": 0
      },
      "text/plain": [
       "Pandas Apply:   0%|          | 0/5 [00:00<?, ?it/s]"
      ]
     },
     "metadata": {},
     "output_type": "display_data"
    },
    {
     "data": {
      "application/vnd.jupyter.widget-view+json": {
       "model_id": "c7121f4aafc04b8a95287baa9c2aab67",
       "version_major": 2,
       "version_minor": 0
      },
      "text/plain": [
       "Pandas Apply:   0%|          | 0/5 [00:00<?, ?it/s]"
      ]
     },
     "metadata": {},
     "output_type": "display_data"
    },
    {
     "data": {
      "application/vnd.jupyter.widget-view+json": {
       "model_id": "ad90d46660cf4a058cc8a358e11f973c",
       "version_major": 2,
       "version_minor": 0
      },
      "text/plain": [
       "Pandas Apply:   0%|          | 0/5 [00:00<?, ?it/s]"
      ]
     },
     "metadata": {},
     "output_type": "display_data"
    },
    {
     "data": {
      "application/vnd.jupyter.widget-view+json": {
       "model_id": "c540a503baef47508d9884bc74407a67",
       "version_major": 2,
       "version_minor": 0
      },
      "text/plain": [
       "Pandas Apply:   0%|          | 0/5 [00:00<?, ?it/s]"
      ]
     },
     "metadata": {},
     "output_type": "display_data"
    },
    {
     "data": {
      "application/vnd.jupyter.widget-view+json": {
       "model_id": "787d43df807f4145896f43eace559ead",
       "version_major": 2,
       "version_minor": 0
      },
      "text/plain": [
       "Pandas Apply:   0%|          | 0/5 [00:00<?, ?it/s]"
      ]
     },
     "metadata": {},
     "output_type": "display_data"
    },
    {
     "data": {
      "application/vnd.jupyter.widget-view+json": {
       "model_id": "192f6371fdea4eaab36f5e38dad08203",
       "version_major": 2,
       "version_minor": 0
      },
      "text/plain": [
       "Pandas Apply:   0%|          | 0/5 [00:00<?, ?it/s]"
      ]
     },
     "metadata": {},
     "output_type": "display_data"
    },
    {
     "data": {
      "application/vnd.jupyter.widget-view+json": {
       "model_id": "26a5e9c1a4d04fa28610d63f15f05c95",
       "version_major": 2,
       "version_minor": 0
      },
      "text/plain": [
       "Pandas Apply:   0%|          | 0/5 [00:00<?, ?it/s]"
      ]
     },
     "metadata": {},
     "output_type": "display_data"
    },
    {
     "data": {
      "application/vnd.jupyter.widget-view+json": {
       "model_id": "1ca5450d1aed4861bb075ace0fb4c4e4",
       "version_major": 2,
       "version_minor": 0
      },
      "text/plain": [
       "Pandas Apply:   0%|          | 0/5 [00:00<?, ?it/s]"
      ]
     },
     "metadata": {},
     "output_type": "display_data"
    },
    {
     "data": {
      "application/vnd.jupyter.widget-view+json": {
       "model_id": "bf62206c00234c0f897b18e3409797e6",
       "version_major": 2,
       "version_minor": 0
      },
      "text/plain": [
       "Pandas Apply:   0%|          | 0/5 [00:00<?, ?it/s]"
      ]
     },
     "metadata": {},
     "output_type": "display_data"
    },
    {
     "data": {
      "application/vnd.jupyter.widget-view+json": {
       "model_id": "1e30d963b9884b8995886891cead898a",
       "version_major": 2,
       "version_minor": 0
      },
      "text/plain": [
       "Pandas Apply:   0%|          | 0/5 [00:00<?, ?it/s]"
      ]
     },
     "metadata": {},
     "output_type": "display_data"
    },
    {
     "data": {
      "application/vnd.jupyter.widget-view+json": {
       "model_id": "bf21a3d4deee44139c45b0f5d0dde4c1",
       "version_major": 2,
       "version_minor": 0
      },
      "text/plain": [
       "Pandas Apply:   0%|          | 0/5 [00:00<?, ?it/s]"
      ]
     },
     "metadata": {},
     "output_type": "display_data"
    },
    {
     "data": {
      "application/vnd.jupyter.widget-view+json": {
       "model_id": "72d6bf2cba564cf1ade03c7458281f22",
       "version_major": 2,
       "version_minor": 0
      },
      "text/plain": [
       "Pandas Apply:   0%|          | 0/5 [00:00<?, ?it/s]"
      ]
     },
     "metadata": {},
     "output_type": "display_data"
    },
    {
     "data": {
      "application/vnd.jupyter.widget-view+json": {
       "model_id": "749064bfdec14163b1431e6be27aa327",
       "version_major": 2,
       "version_minor": 0
      },
      "text/plain": [
       "Pandas Apply:   0%|          | 0/5 [00:00<?, ?it/s]"
      ]
     },
     "metadata": {},
     "output_type": "display_data"
    },
    {
     "data": {
      "application/vnd.jupyter.widget-view+json": {
       "model_id": "363541824bc248e3993df0c524c91008",
       "version_major": 2,
       "version_minor": 0
      },
      "text/plain": [
       "Pandas Apply:   0%|          | 0/5 [00:00<?, ?it/s]"
      ]
     },
     "metadata": {},
     "output_type": "display_data"
    },
    {
     "data": {
      "application/vnd.jupyter.widget-view+json": {
       "model_id": "4324a304a1e44f139d33cfa8e470adc2",
       "version_major": 2,
       "version_minor": 0
      },
      "text/plain": [
       "Pandas Apply:   0%|          | 0/5 [00:00<?, ?it/s]"
      ]
     },
     "metadata": {},
     "output_type": "display_data"
    },
    {
     "data": {
      "application/vnd.jupyter.widget-view+json": {
       "model_id": "3c72fe880ebd4773a6ad07c494d56d53",
       "version_major": 2,
       "version_minor": 0
      },
      "text/plain": [
       "Pandas Apply:   0%|          | 0/5 [00:00<?, ?it/s]"
      ]
     },
     "metadata": {},
     "output_type": "display_data"
    },
    {
     "data": {
      "application/vnd.jupyter.widget-view+json": {
       "model_id": "a5d87f97364d48f1ab11673c80c560cf",
       "version_major": 2,
       "version_minor": 0
      },
      "text/plain": [
       "Pandas Apply:   0%|          | 0/5 [00:00<?, ?it/s]"
      ]
     },
     "metadata": {},
     "output_type": "display_data"
    },
    {
     "data": {
      "application/vnd.jupyter.widget-view+json": {
       "model_id": "454bb206f95d49029b8a66d53c25e6b1",
       "version_major": 2,
       "version_minor": 0
      },
      "text/plain": [
       "Pandas Apply:   0%|          | 0/5 [00:00<?, ?it/s]"
      ]
     },
     "metadata": {},
     "output_type": "display_data"
    },
    {
     "data": {
      "application/vnd.jupyter.widget-view+json": {
       "model_id": "a76be4ced2544a6cafab5eb0f8b4b85e",
       "version_major": 2,
       "version_minor": 0
      },
      "text/plain": [
       "Pandas Apply:   0%|          | 0/5 [00:00<?, ?it/s]"
      ]
     },
     "metadata": {},
     "output_type": "display_data"
    },
    {
     "data": {
      "application/vnd.jupyter.widget-view+json": {
       "model_id": "1ea404ffc7924e9ba646c6f47a453f43",
       "version_major": 2,
       "version_minor": 0
      },
      "text/plain": [
       "Pandas Apply:   0%|          | 0/5 [00:00<?, ?it/s]"
      ]
     },
     "metadata": {},
     "output_type": "display_data"
    },
    {
     "data": {
      "application/vnd.jupyter.widget-view+json": {
       "model_id": "75187f6ca30444bd849bbc78fa993425",
       "version_major": 2,
       "version_minor": 0
      },
      "text/plain": [
       "Pandas Apply:   0%|          | 0/5 [00:00<?, ?it/s]"
      ]
     },
     "metadata": {},
     "output_type": "display_data"
    },
    {
     "data": {
      "application/vnd.jupyter.widget-view+json": {
       "model_id": "84637f58b2d34493beea52ccc0c69834",
       "version_major": 2,
       "version_minor": 0
      },
      "text/plain": [
       "Pandas Apply:   0%|          | 0/5 [00:00<?, ?it/s]"
      ]
     },
     "metadata": {},
     "output_type": "display_data"
    },
    {
     "data": {
      "application/vnd.jupyter.widget-view+json": {
       "model_id": "49c730ede4554e41a02ce4d8456dc578",
       "version_major": 2,
       "version_minor": 0
      },
      "text/plain": [
       "Pandas Apply:   0%|          | 0/5 [00:00<?, ?it/s]"
      ]
     },
     "metadata": {},
     "output_type": "display_data"
    },
    {
     "data": {
      "application/vnd.jupyter.widget-view+json": {
       "model_id": "288e7bab71444378b70ab7e14e890d19",
       "version_major": 2,
       "version_minor": 0
      },
      "text/plain": [
       "Pandas Apply:   0%|          | 0/5 [00:00<?, ?it/s]"
      ]
     },
     "metadata": {},
     "output_type": "display_data"
    },
    {
     "data": {
      "application/vnd.jupyter.widget-view+json": {
       "model_id": "fb9ac1174ec94113abffd2d0efe5821b",
       "version_major": 2,
       "version_minor": 0
      },
      "text/plain": [
       "Pandas Apply:   0%|          | 0/5 [00:00<?, ?it/s]"
      ]
     },
     "metadata": {},
     "output_type": "display_data"
    },
    {
     "data": {
      "application/vnd.jupyter.widget-view+json": {
       "model_id": "2002db5d757a4ce0890ea476fd8f0b4f",
       "version_major": 2,
       "version_minor": 0
      },
      "text/plain": [
       "Pandas Apply:   0%|          | 0/5 [00:00<?, ?it/s]"
      ]
     },
     "metadata": {},
     "output_type": "display_data"
    },
    {
     "data": {
      "application/vnd.jupyter.widget-view+json": {
       "model_id": "e34d2572e6804a2aa09cc0f6543b3c40",
       "version_major": 2,
       "version_minor": 0
      },
      "text/plain": [
       "Pandas Apply:   0%|          | 0/5 [00:00<?, ?it/s]"
      ]
     },
     "metadata": {},
     "output_type": "display_data"
    },
    {
     "data": {
      "application/vnd.jupyter.widget-view+json": {
       "model_id": "ddd98bd05f314e7f9ed6b4d79ed92f83",
       "version_major": 2,
       "version_minor": 0
      },
      "text/plain": [
       "Pandas Apply:   0%|          | 0/5 [00:00<?, ?it/s]"
      ]
     },
     "metadata": {},
     "output_type": "display_data"
    },
    {
     "data": {
      "application/vnd.jupyter.widget-view+json": {
       "model_id": "6441c6f903624e609fbe7c726d4ba271",
       "version_major": 2,
       "version_minor": 0
      },
      "text/plain": [
       "Pandas Apply:   0%|          | 0/5 [00:00<?, ?it/s]"
      ]
     },
     "metadata": {},
     "output_type": "display_data"
    },
    {
     "data": {
      "application/vnd.jupyter.widget-view+json": {
       "model_id": "4c952efad26447cb909e5263845d86cc",
       "version_major": 2,
       "version_minor": 0
      },
      "text/plain": [
       "Pandas Apply:   0%|          | 0/5 [00:00<?, ?it/s]"
      ]
     },
     "metadata": {},
     "output_type": "display_data"
    },
    {
     "data": {
      "application/vnd.jupyter.widget-view+json": {
       "model_id": "819feaa92b694b7aa5af241bd70405be",
       "version_major": 2,
       "version_minor": 0
      },
      "text/plain": [
       "Pandas Apply:   0%|          | 0/5 [00:00<?, ?it/s]"
      ]
     },
     "metadata": {},
     "output_type": "display_data"
    },
    {
     "data": {
      "application/vnd.jupyter.widget-view+json": {
       "model_id": "62374dc2164f49259eccb21a2c8c7b47",
       "version_major": 2,
       "version_minor": 0
      },
      "text/plain": [
       "Pandas Apply:   0%|          | 0/5 [00:00<?, ?it/s]"
      ]
     },
     "metadata": {},
     "output_type": "display_data"
    },
    {
     "data": {
      "application/vnd.jupyter.widget-view+json": {
       "model_id": "d3abddf5d04544cc99951ef6e8586137",
       "version_major": 2,
       "version_minor": 0
      },
      "text/plain": [
       "Pandas Apply:   0%|          | 0/5 [00:00<?, ?it/s]"
      ]
     },
     "metadata": {},
     "output_type": "display_data"
    },
    {
     "data": {
      "application/vnd.jupyter.widget-view+json": {
       "model_id": "ad6ddc451d6246c590fe48643429abbe",
       "version_major": 2,
       "version_minor": 0
      },
      "text/plain": [
       "Pandas Apply:   0%|          | 0/5 [00:00<?, ?it/s]"
      ]
     },
     "metadata": {},
     "output_type": "display_data"
    },
    {
     "data": {
      "application/vnd.jupyter.widget-view+json": {
       "model_id": "38f27eca9ed04b179834f04be00fd32e",
       "version_major": 2,
       "version_minor": 0
      },
      "text/plain": [
       "Pandas Apply:   0%|          | 0/5 [00:00<?, ?it/s]"
      ]
     },
     "metadata": {},
     "output_type": "display_data"
    },
    {
     "data": {
      "application/vnd.jupyter.widget-view+json": {
       "model_id": "781d679e58c94ff2bf3068ae47084c2a",
       "version_major": 2,
       "version_minor": 0
      },
      "text/plain": [
       "Pandas Apply:   0%|          | 0/5 [00:00<?, ?it/s]"
      ]
     },
     "metadata": {},
     "output_type": "display_data"
    },
    {
     "data": {
      "text/html": [
       "<div>\n",
       "<style scoped>\n",
       "    .dataframe tbody tr th:only-of-type {\n",
       "        vertical-align: middle;\n",
       "    }\n",
       "\n",
       "    .dataframe tbody tr th {\n",
       "        vertical-align: top;\n",
       "    }\n",
       "\n",
       "    .dataframe thead th {\n",
       "        text-align: right;\n",
       "    }\n",
       "</style>\n",
       "<table border=\"1\" class=\"dataframe\">\n",
       "  <thead>\n",
       "    <tr style=\"text-align: right;\">\n",
       "      <th></th>\n",
       "      <th>repetition</th>\n",
       "      <th>sse</th>\n",
       "      <th>run_time</th>\n",
       "    </tr>\n",
       "  </thead>\n",
       "  <tbody>\n",
       "    <tr>\n",
       "      <th>0</th>\n",
       "      <td>1</td>\n",
       "      <td>1.785455e+07</td>\n",
       "      <td>102.876694</td>\n",
       "    </tr>\n",
       "    <tr>\n",
       "      <th>1</th>\n",
       "      <td>2</td>\n",
       "      <td>2.039526e+07</td>\n",
       "      <td>124.035076</td>\n",
       "    </tr>\n",
       "    <tr>\n",
       "      <th>2</th>\n",
       "      <td>3</td>\n",
       "      <td>1.790664e+07</td>\n",
       "      <td>80.721551</td>\n",
       "    </tr>\n",
       "    <tr>\n",
       "      <th>3</th>\n",
       "      <td>4</td>\n",
       "      <td>2.025279e+07</td>\n",
       "      <td>78.436528</td>\n",
       "    </tr>\n",
       "    <tr>\n",
       "      <th>4</th>\n",
       "      <td>5</td>\n",
       "      <td>2.117784e+07</td>\n",
       "      <td>100.116819</td>\n",
       "    </tr>\n",
       "    <tr>\n",
       "      <th>5</th>\n",
       "      <td>6</td>\n",
       "      <td>1.912287e+07</td>\n",
       "      <td>99.549704</td>\n",
       "    </tr>\n",
       "    <tr>\n",
       "      <th>6</th>\n",
       "      <td>7</td>\n",
       "      <td>1.897678e+07</td>\n",
       "      <td>142.760602</td>\n",
       "    </tr>\n",
       "    <tr>\n",
       "      <th>7</th>\n",
       "      <td>8</td>\n",
       "      <td>1.905893e+07</td>\n",
       "      <td>101.825637</td>\n",
       "    </tr>\n",
       "    <tr>\n",
       "      <th>8</th>\n",
       "      <td>9</td>\n",
       "      <td>1.972102e+07</td>\n",
       "      <td>145.136663</td>\n",
       "    </tr>\n",
       "    <tr>\n",
       "      <th>9</th>\n",
       "      <td>10</td>\n",
       "      <td>1.957713e+07</td>\n",
       "      <td>101.950491</td>\n",
       "    </tr>\n",
       "    <tr>\n",
       "      <th>10</th>\n",
       "      <td>11</td>\n",
       "      <td>1.959774e+07</td>\n",
       "      <td>102.346046</td>\n",
       "    </tr>\n",
       "    <tr>\n",
       "      <th>11</th>\n",
       "      <td>12</td>\n",
       "      <td>1.780297e+07</td>\n",
       "      <td>79.386114</td>\n",
       "    </tr>\n",
       "    <tr>\n",
       "      <th>12</th>\n",
       "      <td>13</td>\n",
       "      <td>1.963389e+07</td>\n",
       "      <td>101.090854</td>\n",
       "    </tr>\n",
       "    <tr>\n",
       "      <th>13</th>\n",
       "      <td>14</td>\n",
       "      <td>1.903913e+07</td>\n",
       "      <td>78.616222</td>\n",
       "    </tr>\n",
       "    <tr>\n",
       "      <th>14</th>\n",
       "      <td>15</td>\n",
       "      <td>1.977222e+07</td>\n",
       "      <td>123.535481</td>\n",
       "    </tr>\n",
       "    <tr>\n",
       "      <th>15</th>\n",
       "      <td>16</td>\n",
       "      <td>1.781017e+07</td>\n",
       "      <td>117.302865</td>\n",
       "    </tr>\n",
       "    <tr>\n",
       "      <th>16</th>\n",
       "      <td>17</td>\n",
       "      <td>1.815309e+07</td>\n",
       "      <td>101.437775</td>\n",
       "    </tr>\n",
       "    <tr>\n",
       "      <th>17</th>\n",
       "      <td>18</td>\n",
       "      <td>1.812996e+07</td>\n",
       "      <td>98.625449</td>\n",
       "    </tr>\n",
       "    <tr>\n",
       "      <th>18</th>\n",
       "      <td>19</td>\n",
       "      <td>1.876374e+07</td>\n",
       "      <td>97.545489</td>\n",
       "    </tr>\n",
       "    <tr>\n",
       "      <th>19</th>\n",
       "      <td>20</td>\n",
       "      <td>1.816201e+07</td>\n",
       "      <td>119.929883</td>\n",
       "    </tr>\n",
       "  </tbody>\n",
       "</table>\n",
       "</div>"
      ],
      "text/plain": [
       "    repetition           sse    run_time\n",
       "0            1  1.785455e+07  102.876694\n",
       "1            2  2.039526e+07  124.035076\n",
       "2            3  1.790664e+07   80.721551\n",
       "3            4  2.025279e+07   78.436528\n",
       "4            5  2.117784e+07  100.116819\n",
       "5            6  1.912287e+07   99.549704\n",
       "6            7  1.897678e+07  142.760602\n",
       "7            8  1.905893e+07  101.825637\n",
       "8            9  1.972102e+07  145.136663\n",
       "9           10  1.957713e+07  101.950491\n",
       "10          11  1.959774e+07  102.346046\n",
       "11          12  1.780297e+07   79.386114\n",
       "12          13  1.963389e+07  101.090854\n",
       "13          14  1.903913e+07   78.616222\n",
       "14          15  1.977222e+07  123.535481\n",
       "15          16  1.781017e+07  117.302865\n",
       "16          17  1.815309e+07  101.437775\n",
       "17          18  1.812996e+07   98.625449\n",
       "18          19  1.876374e+07   97.545489\n",
       "19          20  1.816201e+07  119.929883"
      ]
     },
     "execution_count": 9,
     "metadata": {},
     "output_type": "execute_result"
    }
   ],
   "source": [
    "error_matrix=[]\n",
    "for i in range (1,21):\n",
    "    sse,run_time=kmeans_lyod_with_error(df,5,10)\n",
    "    error_matrix.append([i,sse,run_time])\n",
    "error_matrix_df= pd.DataFrame(error_matrix,columns=[ 'repetition','sse','run_time'])  \n",
    "error_matrix_df\n"
   ]
  },
  {
   "cell_type": "code",
   "execution_count": null,
   "id": "f6a44e3a",
   "metadata": {},
   "outputs": [],
   "source": [
    "# df_kmeans= pd.DataFrame(np.real(principal_component.values), columns=principal_component.columns)\n",
    "\n",
    "# # Using label encoding to convert string class to numeric\n",
    "# df_label['Class'] = LabelEncoder().fit_transform(df_label['Class'])\n",
    "\n",
    "# df_kmeans= df_kmeans.join(df_label)\n",
    "# df_kmeans"
   ]
  },
  {
   "cell_type": "code",
   "execution_count": 10,
   "id": "ebdc3ec1",
   "metadata": {},
   "outputs": [],
   "source": [
    "error_matrix_df.to_csv('kmeans_hw5_alldata.csv',index=False)\n",
    "\n"
   ]
  },
  {
   "cell_type": "markdown",
   "id": "55d11fb5",
   "metadata": {},
   "source": [
    "# Applying Kmeans Clustering after PCA"
   ]
  },
  {
   "cell_type": "code",
   "execution_count": 17,
   "id": "541f3da9",
   "metadata": {},
   "outputs": [
    {
     "data": {
      "text/html": [
       "<div>\n",
       "<style scoped>\n",
       "    .dataframe tbody tr th:only-of-type {\n",
       "        vertical-align: middle;\n",
       "    }\n",
       "\n",
       "    .dataframe tbody tr th {\n",
       "        vertical-align: top;\n",
       "    }\n",
       "\n",
       "    .dataframe thead th {\n",
       "        text-align: right;\n",
       "    }\n",
       "</style>\n",
       "<table border=\"1\" class=\"dataframe\">\n",
       "  <thead>\n",
       "    <tr style=\"text-align: right;\">\n",
       "      <th></th>\n",
       "      <th>PC1</th>\n",
       "      <th>PC2</th>\n",
       "      <th>PC3</th>\n",
       "      <th>PC4</th>\n",
       "      <th>PC5</th>\n",
       "      <th>PC6</th>\n",
       "      <th>PC7</th>\n",
       "      <th>PC8</th>\n",
       "      <th>PC9</th>\n",
       "      <th>PC10</th>\n",
       "      <th>...</th>\n",
       "      <th>PC364</th>\n",
       "      <th>PC365</th>\n",
       "      <th>PC366</th>\n",
       "      <th>PC367</th>\n",
       "      <th>PC368</th>\n",
       "      <th>PC369</th>\n",
       "      <th>PC370</th>\n",
       "      <th>PC371</th>\n",
       "      <th>PC372</th>\n",
       "      <th>Class</th>\n",
       "    </tr>\n",
       "  </thead>\n",
       "  <tbody>\n",
       "    <tr>\n",
       "      <th>0</th>\n",
       "      <td>57.446987</td>\n",
       "      <td>95.410981</td>\n",
       "      <td>-74.301543</td>\n",
       "      <td>-12.166781</td>\n",
       "      <td>-7.981831</td>\n",
       "      <td>-36.157573</td>\n",
       "      <td>-7.668542</td>\n",
       "      <td>-19.951444</td>\n",
       "      <td>0.142216</td>\n",
       "      <td>-3.035240</td>\n",
       "      <td>...</td>\n",
       "      <td>-1.761114</td>\n",
       "      <td>2.821183</td>\n",
       "      <td>-1.787594</td>\n",
       "      <td>-2.698708</td>\n",
       "      <td>-2.518873</td>\n",
       "      <td>-2.006253</td>\n",
       "      <td>1.385627</td>\n",
       "      <td>-0.075669</td>\n",
       "      <td>-0.668623</td>\n",
       "      <td>4</td>\n",
       "    </tr>\n",
       "    <tr>\n",
       "      <th>1</th>\n",
       "      <td>16.919430</td>\n",
       "      <td>0.732470</td>\n",
       "      <td>64.072900</td>\n",
       "      <td>-2.095308</td>\n",
       "      <td>25.426430</td>\n",
       "      <td>-27.784178</td>\n",
       "      <td>-16.132765</td>\n",
       "      <td>17.031383</td>\n",
       "      <td>-22.023874</td>\n",
       "      <td>27.923308</td>\n",
       "      <td>...</td>\n",
       "      <td>4.840131</td>\n",
       "      <td>2.988708</td>\n",
       "      <td>-1.029549</td>\n",
       "      <td>2.092449</td>\n",
       "      <td>-1.647998</td>\n",
       "      <td>6.208070</td>\n",
       "      <td>2.046062</td>\n",
       "      <td>0.890695</td>\n",
       "      <td>0.578969</td>\n",
       "      <td>3</td>\n",
       "    </tr>\n",
       "    <tr>\n",
       "      <th>2</th>\n",
       "      <td>70.345218</td>\n",
       "      <td>-19.303327</td>\n",
       "      <td>-20.488240</td>\n",
       "      <td>48.102893</td>\n",
       "      <td>-24.437757</td>\n",
       "      <td>-17.462510</td>\n",
       "      <td>20.706772</td>\n",
       "      <td>47.626817</td>\n",
       "      <td>-28.647648</td>\n",
       "      <td>12.784676</td>\n",
       "      <td>...</td>\n",
       "      <td>1.084395</td>\n",
       "      <td>0.402993</td>\n",
       "      <td>-0.700511</td>\n",
       "      <td>-1.315347</td>\n",
       "      <td>5.013460</td>\n",
       "      <td>2.119968</td>\n",
       "      <td>1.704379</td>\n",
       "      <td>-0.776193</td>\n",
       "      <td>3.447188</td>\n",
       "      <td>4</td>\n",
       "    </tr>\n",
       "    <tr>\n",
       "      <th>3</th>\n",
       "      <td>49.161591</td>\n",
       "      <td>-9.227586</td>\n",
       "      <td>-61.243770</td>\n",
       "      <td>37.805744</td>\n",
       "      <td>-1.038889</td>\n",
       "      <td>-23.240002</td>\n",
       "      <td>-4.801039</td>\n",
       "      <td>21.554809</td>\n",
       "      <td>-15.375067</td>\n",
       "      <td>12.881511</td>\n",
       "      <td>...</td>\n",
       "      <td>0.505183</td>\n",
       "      <td>-3.890712</td>\n",
       "      <td>-0.458207</td>\n",
       "      <td>1.903958</td>\n",
       "      <td>0.697658</td>\n",
       "      <td>-2.893746</td>\n",
       "      <td>0.209234</td>\n",
       "      <td>3.109684</td>\n",
       "      <td>0.922602</td>\n",
       "      <td>4</td>\n",
       "    </tr>\n",
       "    <tr>\n",
       "      <th>4</th>\n",
       "      <td>18.132534</td>\n",
       "      <td>-51.327797</td>\n",
       "      <td>-16.598116</td>\n",
       "      <td>-17.699201</td>\n",
       "      <td>-26.389130</td>\n",
       "      <td>1.551573</td>\n",
       "      <td>-6.266101</td>\n",
       "      <td>-12.336677</td>\n",
       "      <td>-4.233837</td>\n",
       "      <td>-28.804476</td>\n",
       "      <td>...</td>\n",
       "      <td>1.774446</td>\n",
       "      <td>2.722033</td>\n",
       "      <td>0.116283</td>\n",
       "      <td>-1.694152</td>\n",
       "      <td>3.238688</td>\n",
       "      <td>-0.653246</td>\n",
       "      <td>-1.020225</td>\n",
       "      <td>3.150149</td>\n",
       "      <td>-0.974301</td>\n",
       "      <td>0</td>\n",
       "    </tr>\n",
       "    <tr>\n",
       "      <th>...</th>\n",
       "      <td>...</td>\n",
       "      <td>...</td>\n",
       "      <td>...</td>\n",
       "      <td>...</td>\n",
       "      <td>...</td>\n",
       "      <td>...</td>\n",
       "      <td>...</td>\n",
       "      <td>...</td>\n",
       "      <td>...</td>\n",
       "      <td>...</td>\n",
       "      <td>...</td>\n",
       "      <td>...</td>\n",
       "      <td>...</td>\n",
       "      <td>...</td>\n",
       "      <td>...</td>\n",
       "      <td>...</td>\n",
       "      <td>...</td>\n",
       "      <td>...</td>\n",
       "      <td>...</td>\n",
       "      <td>...</td>\n",
       "      <td>...</td>\n",
       "    </tr>\n",
       "    <tr>\n",
       "      <th>796</th>\n",
       "      <td>12.417385</td>\n",
       "      <td>-42.321573</td>\n",
       "      <td>-28.109566</td>\n",
       "      <td>-31.200320</td>\n",
       "      <td>-38.814556</td>\n",
       "      <td>-2.762444</td>\n",
       "      <td>-15.524261</td>\n",
       "      <td>-10.618692</td>\n",
       "      <td>8.528240</td>\n",
       "      <td>-27.573714</td>\n",
       "      <td>...</td>\n",
       "      <td>-0.183957</td>\n",
       "      <td>1.520214</td>\n",
       "      <td>1.413367</td>\n",
       "      <td>1.273846</td>\n",
       "      <td>-1.517010</td>\n",
       "      <td>-0.767866</td>\n",
       "      <td>1.470709</td>\n",
       "      <td>-1.689902</td>\n",
       "      <td>3.233389</td>\n",
       "      <td>0</td>\n",
       "    </tr>\n",
       "    <tr>\n",
       "      <th>797</th>\n",
       "      <td>29.415554</td>\n",
       "      <td>28.526281</td>\n",
       "      <td>15.956631</td>\n",
       "      <td>-11.635178</td>\n",
       "      <td>37.071404</td>\n",
       "      <td>16.239422</td>\n",
       "      <td>-17.341039</td>\n",
       "      <td>35.107458</td>\n",
       "      <td>-26.870257</td>\n",
       "      <td>-31.147205</td>\n",
       "      <td>...</td>\n",
       "      <td>-3.082539</td>\n",
       "      <td>1.723200</td>\n",
       "      <td>2.102350</td>\n",
       "      <td>0.279098</td>\n",
       "      <td>1.050980</td>\n",
       "      <td>0.366196</td>\n",
       "      <td>-4.177639</td>\n",
       "      <td>-1.295355</td>\n",
       "      <td>-1.772439</td>\n",
       "      <td>3</td>\n",
       "    </tr>\n",
       "    <tr>\n",
       "      <th>798</th>\n",
       "      <td>4.133090</td>\n",
       "      <td>15.690014</td>\n",
       "      <td>22.644453</td>\n",
       "      <td>-11.982424</td>\n",
       "      <td>57.835783</td>\n",
       "      <td>39.652668</td>\n",
       "      <td>47.718063</td>\n",
       "      <td>-24.221214</td>\n",
       "      <td>22.709097</td>\n",
       "      <td>32.888886</td>\n",
       "      <td>...</td>\n",
       "      <td>-0.383244</td>\n",
       "      <td>-0.978894</td>\n",
       "      <td>-1.402018</td>\n",
       "      <td>1.508294</td>\n",
       "      <td>-0.079742</td>\n",
       "      <td>0.492916</td>\n",
       "      <td>0.129879</td>\n",
       "      <td>0.848905</td>\n",
       "      <td>-0.004379</td>\n",
       "      <td>1</td>\n",
       "    </tr>\n",
       "    <tr>\n",
       "      <th>799</th>\n",
       "      <td>30.814757</td>\n",
       "      <td>33.526423</td>\n",
       "      <td>-70.565636</td>\n",
       "      <td>16.643656</td>\n",
       "      <td>16.579983</td>\n",
       "      <td>4.318571</td>\n",
       "      <td>20.482607</td>\n",
       "      <td>9.552721</td>\n",
       "      <td>3.680009</td>\n",
       "      <td>7.948784</td>\n",
       "      <td>...</td>\n",
       "      <td>3.989814</td>\n",
       "      <td>0.135392</td>\n",
       "      <td>-1.916288</td>\n",
       "      <td>-1.899100</td>\n",
       "      <td>-0.617998</td>\n",
       "      <td>1.303425</td>\n",
       "      <td>-0.680783</td>\n",
       "      <td>-2.558321</td>\n",
       "      <td>1.181467</td>\n",
       "      <td>4</td>\n",
       "    </tr>\n",
       "    <tr>\n",
       "      <th>800</th>\n",
       "      <td>22.344557</td>\n",
       "      <td>4.052356</td>\n",
       "      <td>-32.327876</td>\n",
       "      <td>5.201134</td>\n",
       "      <td>24.120910</td>\n",
       "      <td>-13.133059</td>\n",
       "      <td>-4.080951</td>\n",
       "      <td>-3.740406</td>\n",
       "      <td>-9.013376</td>\n",
       "      <td>38.314750</td>\n",
       "      <td>...</td>\n",
       "      <td>1.464185</td>\n",
       "      <td>-1.574157</td>\n",
       "      <td>-3.479393</td>\n",
       "      <td>-0.464481</td>\n",
       "      <td>-4.807875</td>\n",
       "      <td>-0.555849</td>\n",
       "      <td>0.406353</td>\n",
       "      <td>-1.513861</td>\n",
       "      <td>-7.418853</td>\n",
       "      <td>4</td>\n",
       "    </tr>\n",
       "  </tbody>\n",
       "</table>\n",
       "<p>801 rows × 373 columns</p>\n",
       "</div>"
      ],
      "text/plain": [
       "           PC1        PC2        PC3        PC4        PC5        PC6  \\\n",
       "0    57.446987  95.410981 -74.301543 -12.166781  -7.981831 -36.157573   \n",
       "1    16.919430   0.732470  64.072900  -2.095308  25.426430 -27.784178   \n",
       "2    70.345218 -19.303327 -20.488240  48.102893 -24.437757 -17.462510   \n",
       "3    49.161591  -9.227586 -61.243770  37.805744  -1.038889 -23.240002   \n",
       "4    18.132534 -51.327797 -16.598116 -17.699201 -26.389130   1.551573   \n",
       "..         ...        ...        ...        ...        ...        ...   \n",
       "796  12.417385 -42.321573 -28.109566 -31.200320 -38.814556  -2.762444   \n",
       "797  29.415554  28.526281  15.956631 -11.635178  37.071404  16.239422   \n",
       "798   4.133090  15.690014  22.644453 -11.982424  57.835783  39.652668   \n",
       "799  30.814757  33.526423 -70.565636  16.643656  16.579983   4.318571   \n",
       "800  22.344557   4.052356 -32.327876   5.201134  24.120910 -13.133059   \n",
       "\n",
       "           PC7        PC8        PC9       PC10  ...     PC364     PC365  \\\n",
       "0    -7.668542 -19.951444   0.142216  -3.035240  ... -1.761114  2.821183   \n",
       "1   -16.132765  17.031383 -22.023874  27.923308  ...  4.840131  2.988708   \n",
       "2    20.706772  47.626817 -28.647648  12.784676  ...  1.084395  0.402993   \n",
       "3    -4.801039  21.554809 -15.375067  12.881511  ...  0.505183 -3.890712   \n",
       "4    -6.266101 -12.336677  -4.233837 -28.804476  ...  1.774446  2.722033   \n",
       "..         ...        ...        ...        ...  ...       ...       ...   \n",
       "796 -15.524261 -10.618692   8.528240 -27.573714  ... -0.183957  1.520214   \n",
       "797 -17.341039  35.107458 -26.870257 -31.147205  ... -3.082539  1.723200   \n",
       "798  47.718063 -24.221214  22.709097  32.888886  ... -0.383244 -0.978894   \n",
       "799  20.482607   9.552721   3.680009   7.948784  ...  3.989814  0.135392   \n",
       "800  -4.080951  -3.740406  -9.013376  38.314750  ...  1.464185 -1.574157   \n",
       "\n",
       "        PC366     PC367     PC368     PC369     PC370     PC371     PC372  \\\n",
       "0   -1.787594 -2.698708 -2.518873 -2.006253  1.385627 -0.075669 -0.668623   \n",
       "1   -1.029549  2.092449 -1.647998  6.208070  2.046062  0.890695  0.578969   \n",
       "2   -0.700511 -1.315347  5.013460  2.119968  1.704379 -0.776193  3.447188   \n",
       "3   -0.458207  1.903958  0.697658 -2.893746  0.209234  3.109684  0.922602   \n",
       "4    0.116283 -1.694152  3.238688 -0.653246 -1.020225  3.150149 -0.974301   \n",
       "..        ...       ...       ...       ...       ...       ...       ...   \n",
       "796  1.413367  1.273846 -1.517010 -0.767866  1.470709 -1.689902  3.233389   \n",
       "797  2.102350  0.279098  1.050980  0.366196 -4.177639 -1.295355 -1.772439   \n",
       "798 -1.402018  1.508294 -0.079742  0.492916  0.129879  0.848905 -0.004379   \n",
       "799 -1.916288 -1.899100 -0.617998  1.303425 -0.680783 -2.558321  1.181467   \n",
       "800 -3.479393 -0.464481 -4.807875 -0.555849  0.406353 -1.513861 -7.418853   \n",
       "\n",
       "     Class  \n",
       "0        4  \n",
       "1        3  \n",
       "2        4  \n",
       "3        4  \n",
       "4        0  \n",
       "..     ...  \n",
       "796      0  \n",
       "797      3  \n",
       "798      1  \n",
       "799      4  \n",
       "800      4  \n",
       "\n",
       "[801 rows x 373 columns]"
      ]
     },
     "execution_count": 17,
     "metadata": {},
     "output_type": "execute_result"
    }
   ],
   "source": [
    "### After clustering\n",
    "\n",
    "principal_component=pd.read_csv('principal_component.csv')\n",
    "principal_component=principal_component.join(df_label)\n",
    "principal_component"
   ]
  },
  {
   "cell_type": "code",
   "execution_count": 18,
   "id": "bd82ed4d",
   "metadata": {},
   "outputs": [
    {
     "data": {
      "application/vnd.jupyter.widget-view+json": {
       "model_id": "de647da83ded4fafa7b23358ab63c7b9",
       "version_major": 2,
       "version_minor": 0
      },
      "text/plain": [
       "Pandas Apply:   0%|          | 0/5 [00:00<?, ?it/s]"
      ]
     },
     "metadata": {},
     "output_type": "display_data"
    },
    {
     "data": {
      "application/vnd.jupyter.widget-view+json": {
       "model_id": "387ea63b300544898f5a4639754262d0",
       "version_major": 2,
       "version_minor": 0
      },
      "text/plain": [
       "Pandas Apply:   0%|          | 0/5 [00:00<?, ?it/s]"
      ]
     },
     "metadata": {},
     "output_type": "display_data"
    },
    {
     "data": {
      "application/vnd.jupyter.widget-view+json": {
       "model_id": "23b3da33b21a4fa79f3542cc647ef74b",
       "version_major": 2,
       "version_minor": 0
      },
      "text/plain": [
       "Pandas Apply:   0%|          | 0/5 [00:00<?, ?it/s]"
      ]
     },
     "metadata": {},
     "output_type": "display_data"
    },
    {
     "data": {
      "application/vnd.jupyter.widget-view+json": {
       "model_id": "8326c75832be46b3b93a4272c67f9b46",
       "version_major": 2,
       "version_minor": 0
      },
      "text/plain": [
       "Pandas Apply:   0%|          | 0/5 [00:00<?, ?it/s]"
      ]
     },
     "metadata": {},
     "output_type": "display_data"
    },
    {
     "data": {
      "application/vnd.jupyter.widget-view+json": {
       "model_id": "29c85540977944558a0193535cf0fd1d",
       "version_major": 2,
       "version_minor": 0
      },
      "text/plain": [
       "Pandas Apply:   0%|          | 0/5 [00:00<?, ?it/s]"
      ]
     },
     "metadata": {},
     "output_type": "display_data"
    },
    {
     "data": {
      "application/vnd.jupyter.widget-view+json": {
       "model_id": "9cfdced7e9b246ffa32863fbf5edafa5",
       "version_major": 2,
       "version_minor": 0
      },
      "text/plain": [
       "Pandas Apply:   0%|          | 0/5 [00:00<?, ?it/s]"
      ]
     },
     "metadata": {},
     "output_type": "display_data"
    },
    {
     "data": {
      "application/vnd.jupyter.widget-view+json": {
       "model_id": "a605a0c526aa492091d68f13b9702aab",
       "version_major": 2,
       "version_minor": 0
      },
      "text/plain": [
       "Pandas Apply:   0%|          | 0/5 [00:00<?, ?it/s]"
      ]
     },
     "metadata": {},
     "output_type": "display_data"
    },
    {
     "data": {
      "application/vnd.jupyter.widget-view+json": {
       "model_id": "ba6a8ec0ca334dce9108a9d8a192719d",
       "version_major": 2,
       "version_minor": 0
      },
      "text/plain": [
       "Pandas Apply:   0%|          | 0/5 [00:00<?, ?it/s]"
      ]
     },
     "metadata": {},
     "output_type": "display_data"
    },
    {
     "data": {
      "application/vnd.jupyter.widget-view+json": {
       "model_id": "959019102b364cfc9257147e7899bd09",
       "version_major": 2,
       "version_minor": 0
      },
      "text/plain": [
       "Pandas Apply:   0%|          | 0/5 [00:00<?, ?it/s]"
      ]
     },
     "metadata": {},
     "output_type": "display_data"
    },
    {
     "data": {
      "application/vnd.jupyter.widget-view+json": {
       "model_id": "fd5aa0460c4140828209e3a5544f890c",
       "version_major": 2,
       "version_minor": 0
      },
      "text/plain": [
       "Pandas Apply:   0%|          | 0/5 [00:00<?, ?it/s]"
      ]
     },
     "metadata": {},
     "output_type": "display_data"
    },
    {
     "data": {
      "application/vnd.jupyter.widget-view+json": {
       "model_id": "ffa7e177a7a94fe597f7f92e5e51e5ff",
       "version_major": 2,
       "version_minor": 0
      },
      "text/plain": [
       "Pandas Apply:   0%|          | 0/5 [00:00<?, ?it/s]"
      ]
     },
     "metadata": {},
     "output_type": "display_data"
    },
    {
     "data": {
      "application/vnd.jupyter.widget-view+json": {
       "model_id": "6f14db59bd934e8986b92364f043b1c8",
       "version_major": 2,
       "version_minor": 0
      },
      "text/plain": [
       "Pandas Apply:   0%|          | 0/5 [00:00<?, ?it/s]"
      ]
     },
     "metadata": {},
     "output_type": "display_data"
    },
    {
     "data": {
      "application/vnd.jupyter.widget-view+json": {
       "model_id": "657e50881da2469898202f42c9027763",
       "version_major": 2,
       "version_minor": 0
      },
      "text/plain": [
       "Pandas Apply:   0%|          | 0/5 [00:00<?, ?it/s]"
      ]
     },
     "metadata": {},
     "output_type": "display_data"
    },
    {
     "data": {
      "application/vnd.jupyter.widget-view+json": {
       "model_id": "ee430d0fe5d1476fb543aeb524fe1b29",
       "version_major": 2,
       "version_minor": 0
      },
      "text/plain": [
       "Pandas Apply:   0%|          | 0/5 [00:00<?, ?it/s]"
      ]
     },
     "metadata": {},
     "output_type": "display_data"
    },
    {
     "data": {
      "application/vnd.jupyter.widget-view+json": {
       "model_id": "6b6c6ae21b3246a1a93ab1c49eee1eda",
       "version_major": 2,
       "version_minor": 0
      },
      "text/plain": [
       "Pandas Apply:   0%|          | 0/5 [00:00<?, ?it/s]"
      ]
     },
     "metadata": {},
     "output_type": "display_data"
    },
    {
     "data": {
      "application/vnd.jupyter.widget-view+json": {
       "model_id": "a8ee1b3bfa454cb0bb47d97d7431ef42",
       "version_major": 2,
       "version_minor": 0
      },
      "text/plain": [
       "Pandas Apply:   0%|          | 0/5 [00:00<?, ?it/s]"
      ]
     },
     "metadata": {},
     "output_type": "display_data"
    },
    {
     "data": {
      "application/vnd.jupyter.widget-view+json": {
       "model_id": "66c7117f46d04a91944a89312f3981dc",
       "version_major": 2,
       "version_minor": 0
      },
      "text/plain": [
       "Pandas Apply:   0%|          | 0/5 [00:00<?, ?it/s]"
      ]
     },
     "metadata": {},
     "output_type": "display_data"
    },
    {
     "data": {
      "application/vnd.jupyter.widget-view+json": {
       "model_id": "3744c75af4564f6eb710002312d1ec05",
       "version_major": 2,
       "version_minor": 0
      },
      "text/plain": [
       "Pandas Apply:   0%|          | 0/5 [00:00<?, ?it/s]"
      ]
     },
     "metadata": {},
     "output_type": "display_data"
    },
    {
     "data": {
      "application/vnd.jupyter.widget-view+json": {
       "model_id": "0dedd344255f4f338533bf5ebe56af7a",
       "version_major": 2,
       "version_minor": 0
      },
      "text/plain": [
       "Pandas Apply:   0%|          | 0/5 [00:00<?, ?it/s]"
      ]
     },
     "metadata": {},
     "output_type": "display_data"
    },
    {
     "data": {
      "application/vnd.jupyter.widget-view+json": {
       "model_id": "e932864736124e4793782662fed48ba4",
       "version_major": 2,
       "version_minor": 0
      },
      "text/plain": [
       "Pandas Apply:   0%|          | 0/5 [00:00<?, ?it/s]"
      ]
     },
     "metadata": {},
     "output_type": "display_data"
    },
    {
     "data": {
      "application/vnd.jupyter.widget-view+json": {
       "model_id": "4465effc2ade42449c5bac9705907515",
       "version_major": 2,
       "version_minor": 0
      },
      "text/plain": [
       "Pandas Apply:   0%|          | 0/5 [00:00<?, ?it/s]"
      ]
     },
     "metadata": {},
     "output_type": "display_data"
    },
    {
     "data": {
      "application/vnd.jupyter.widget-view+json": {
       "model_id": "463e5289b63a48c49b9cba69b769ee05",
       "version_major": 2,
       "version_minor": 0
      },
      "text/plain": [
       "Pandas Apply:   0%|          | 0/5 [00:00<?, ?it/s]"
      ]
     },
     "metadata": {},
     "output_type": "display_data"
    },
    {
     "data": {
      "application/vnd.jupyter.widget-view+json": {
       "model_id": "e2cb49646aae477da4a81cdfa1010786",
       "version_major": 2,
       "version_minor": 0
      },
      "text/plain": [
       "Pandas Apply:   0%|          | 0/5 [00:00<?, ?it/s]"
      ]
     },
     "metadata": {},
     "output_type": "display_data"
    },
    {
     "data": {
      "application/vnd.jupyter.widget-view+json": {
       "model_id": "eded0131c8854243a48fa8b842a8a281",
       "version_major": 2,
       "version_minor": 0
      },
      "text/plain": [
       "Pandas Apply:   0%|          | 0/5 [00:00<?, ?it/s]"
      ]
     },
     "metadata": {},
     "output_type": "display_data"
    },
    {
     "data": {
      "application/vnd.jupyter.widget-view+json": {
       "model_id": "fe4c64fd15224195b817de60c8771cef",
       "version_major": 2,
       "version_minor": 0
      },
      "text/plain": [
       "Pandas Apply:   0%|          | 0/5 [00:00<?, ?it/s]"
      ]
     },
     "metadata": {},
     "output_type": "display_data"
    },
    {
     "data": {
      "application/vnd.jupyter.widget-view+json": {
       "model_id": "738b224a9d5b499bb8b9105fb85faba4",
       "version_major": 2,
       "version_minor": 0
      },
      "text/plain": [
       "Pandas Apply:   0%|          | 0/5 [00:00<?, ?it/s]"
      ]
     },
     "metadata": {},
     "output_type": "display_data"
    },
    {
     "data": {
      "application/vnd.jupyter.widget-view+json": {
       "model_id": "22cf1300ca084b5883f46228aadcfad3",
       "version_major": 2,
       "version_minor": 0
      },
      "text/plain": [
       "Pandas Apply:   0%|          | 0/5 [00:00<?, ?it/s]"
      ]
     },
     "metadata": {},
     "output_type": "display_data"
    },
    {
     "data": {
      "application/vnd.jupyter.widget-view+json": {
       "model_id": "61b7c436583a4e8fa8110ddb86529ebe",
       "version_major": 2,
       "version_minor": 0
      },
      "text/plain": [
       "Pandas Apply:   0%|          | 0/5 [00:00<?, ?it/s]"
      ]
     },
     "metadata": {},
     "output_type": "display_data"
    },
    {
     "data": {
      "application/vnd.jupyter.widget-view+json": {
       "model_id": "cdaf697eccc34eadbce8d7896165e942",
       "version_major": 2,
       "version_minor": 0
      },
      "text/plain": [
       "Pandas Apply:   0%|          | 0/5 [00:00<?, ?it/s]"
      ]
     },
     "metadata": {},
     "output_type": "display_data"
    },
    {
     "data": {
      "application/vnd.jupyter.widget-view+json": {
       "model_id": "fe094cee6d854c388aaab12b5dd52e9f",
       "version_major": 2,
       "version_minor": 0
      },
      "text/plain": [
       "Pandas Apply:   0%|          | 0/5 [00:00<?, ?it/s]"
      ]
     },
     "metadata": {},
     "output_type": "display_data"
    },
    {
     "data": {
      "application/vnd.jupyter.widget-view+json": {
       "model_id": "5eb318369aaf4a2991f587b982cf2777",
       "version_major": 2,
       "version_minor": 0
      },
      "text/plain": [
       "Pandas Apply:   0%|          | 0/5 [00:00<?, ?it/s]"
      ]
     },
     "metadata": {},
     "output_type": "display_data"
    },
    {
     "data": {
      "application/vnd.jupyter.widget-view+json": {
       "model_id": "54179d92643c4827a291449f23ebea59",
       "version_major": 2,
       "version_minor": 0
      },
      "text/plain": [
       "Pandas Apply:   0%|          | 0/5 [00:00<?, ?it/s]"
      ]
     },
     "metadata": {},
     "output_type": "display_data"
    },
    {
     "data": {
      "application/vnd.jupyter.widget-view+json": {
       "model_id": "66dd1419f993469794def796f098c140",
       "version_major": 2,
       "version_minor": 0
      },
      "text/plain": [
       "Pandas Apply:   0%|          | 0/5 [00:00<?, ?it/s]"
      ]
     },
     "metadata": {},
     "output_type": "display_data"
    },
    {
     "data": {
      "application/vnd.jupyter.widget-view+json": {
       "model_id": "a4ebdef1e09d4c5c9597d2ea91397f55",
       "version_major": 2,
       "version_minor": 0
      },
      "text/plain": [
       "Pandas Apply:   0%|          | 0/5 [00:00<?, ?it/s]"
      ]
     },
     "metadata": {},
     "output_type": "display_data"
    },
    {
     "data": {
      "application/vnd.jupyter.widget-view+json": {
       "model_id": "bcb99a49bfbc4e18af6ab15776de592f",
       "version_major": 2,
       "version_minor": 0
      },
      "text/plain": [
       "Pandas Apply:   0%|          | 0/5 [00:00<?, ?it/s]"
      ]
     },
     "metadata": {},
     "output_type": "display_data"
    },
    {
     "data": {
      "application/vnd.jupyter.widget-view+json": {
       "model_id": "92cde78f478e4604bbd1b35179f24e42",
       "version_major": 2,
       "version_minor": 0
      },
      "text/plain": [
       "Pandas Apply:   0%|          | 0/5 [00:00<?, ?it/s]"
      ]
     },
     "metadata": {},
     "output_type": "display_data"
    },
    {
     "data": {
      "application/vnd.jupyter.widget-view+json": {
       "model_id": "46ee58c814334a55994fd47966f8d567",
       "version_major": 2,
       "version_minor": 0
      },
      "text/plain": [
       "Pandas Apply:   0%|          | 0/5 [00:00<?, ?it/s]"
      ]
     },
     "metadata": {},
     "output_type": "display_data"
    },
    {
     "data": {
      "application/vnd.jupyter.widget-view+json": {
       "model_id": "b922a2e4104e4e24870873810497d239",
       "version_major": 2,
       "version_minor": 0
      },
      "text/plain": [
       "Pandas Apply:   0%|          | 0/5 [00:00<?, ?it/s]"
      ]
     },
     "metadata": {},
     "output_type": "display_data"
    },
    {
     "data": {
      "application/vnd.jupyter.widget-view+json": {
       "model_id": "b89caf1f8e464d799a79156a089587d9",
       "version_major": 2,
       "version_minor": 0
      },
      "text/plain": [
       "Pandas Apply:   0%|          | 0/5 [00:00<?, ?it/s]"
      ]
     },
     "metadata": {},
     "output_type": "display_data"
    },
    {
     "data": {
      "application/vnd.jupyter.widget-view+json": {
       "model_id": "8fdcbf69fe67485ab17018d5caed11da",
       "version_major": 2,
       "version_minor": 0
      },
      "text/plain": [
       "Pandas Apply:   0%|          | 0/5 [00:00<?, ?it/s]"
      ]
     },
     "metadata": {},
     "output_type": "display_data"
    },
    {
     "data": {
      "application/vnd.jupyter.widget-view+json": {
       "model_id": "59f7a5962ac54f91bf225338e5ed1567",
       "version_major": 2,
       "version_minor": 0
      },
      "text/plain": [
       "Pandas Apply:   0%|          | 0/5 [00:00<?, ?it/s]"
      ]
     },
     "metadata": {},
     "output_type": "display_data"
    },
    {
     "data": {
      "application/vnd.jupyter.widget-view+json": {
       "model_id": "c41b265ba9584eee9972675d54474568",
       "version_major": 2,
       "version_minor": 0
      },
      "text/plain": [
       "Pandas Apply:   0%|          | 0/5 [00:00<?, ?it/s]"
      ]
     },
     "metadata": {},
     "output_type": "display_data"
    },
    {
     "data": {
      "application/vnd.jupyter.widget-view+json": {
       "model_id": "debad34218d84f58a85e622546b626d6",
       "version_major": 2,
       "version_minor": 0
      },
      "text/plain": [
       "Pandas Apply:   0%|          | 0/5 [00:00<?, ?it/s]"
      ]
     },
     "metadata": {},
     "output_type": "display_data"
    },
    {
     "data": {
      "application/vnd.jupyter.widget-view+json": {
       "model_id": "c25bacd978414a6a8ed19342b380360e",
       "version_major": 2,
       "version_minor": 0
      },
      "text/plain": [
       "Pandas Apply:   0%|          | 0/5 [00:00<?, ?it/s]"
      ]
     },
     "metadata": {},
     "output_type": "display_data"
    },
    {
     "data": {
      "application/vnd.jupyter.widget-view+json": {
       "model_id": "c24c67df7e2949058c9fc4283b604533",
       "version_major": 2,
       "version_minor": 0
      },
      "text/plain": [
       "Pandas Apply:   0%|          | 0/5 [00:00<?, ?it/s]"
      ]
     },
     "metadata": {},
     "output_type": "display_data"
    },
    {
     "data": {
      "application/vnd.jupyter.widget-view+json": {
       "model_id": "86ad664533c747e4a6ee110ca0d74059",
       "version_major": 2,
       "version_minor": 0
      },
      "text/plain": [
       "Pandas Apply:   0%|          | 0/5 [00:00<?, ?it/s]"
      ]
     },
     "metadata": {},
     "output_type": "display_data"
    },
    {
     "data": {
      "application/vnd.jupyter.widget-view+json": {
       "model_id": "0f92f485a2d44291bc04af148919f358",
       "version_major": 2,
       "version_minor": 0
      },
      "text/plain": [
       "Pandas Apply:   0%|          | 0/5 [00:00<?, ?it/s]"
      ]
     },
     "metadata": {},
     "output_type": "display_data"
    },
    {
     "data": {
      "application/vnd.jupyter.widget-view+json": {
       "model_id": "335c14aa516d4fac863375992203636e",
       "version_major": 2,
       "version_minor": 0
      },
      "text/plain": [
       "Pandas Apply:   0%|          | 0/5 [00:00<?, ?it/s]"
      ]
     },
     "metadata": {},
     "output_type": "display_data"
    },
    {
     "data": {
      "application/vnd.jupyter.widget-view+json": {
       "model_id": "75779936504e4c118022808864b05bbc",
       "version_major": 2,
       "version_minor": 0
      },
      "text/plain": [
       "Pandas Apply:   0%|          | 0/5 [00:00<?, ?it/s]"
      ]
     },
     "metadata": {},
     "output_type": "display_data"
    },
    {
     "data": {
      "application/vnd.jupyter.widget-view+json": {
       "model_id": "9802acce71384c33aaa41ead17d62ccd",
       "version_major": 2,
       "version_minor": 0
      },
      "text/plain": [
       "Pandas Apply:   0%|          | 0/5 [00:00<?, ?it/s]"
      ]
     },
     "metadata": {},
     "output_type": "display_data"
    },
    {
     "data": {
      "application/vnd.jupyter.widget-view+json": {
       "model_id": "33737330d95c47c8866b5cc84f3e980e",
       "version_major": 2,
       "version_minor": 0
      },
      "text/plain": [
       "Pandas Apply:   0%|          | 0/5 [00:00<?, ?it/s]"
      ]
     },
     "metadata": {},
     "output_type": "display_data"
    },
    {
     "data": {
      "application/vnd.jupyter.widget-view+json": {
       "model_id": "bd633b84d2c74f27bf34ef5ff3b96fa8",
       "version_major": 2,
       "version_minor": 0
      },
      "text/plain": [
       "Pandas Apply:   0%|          | 0/5 [00:00<?, ?it/s]"
      ]
     },
     "metadata": {},
     "output_type": "display_data"
    },
    {
     "data": {
      "application/vnd.jupyter.widget-view+json": {
       "model_id": "7a1064e53adf4961901d541823c2edaa",
       "version_major": 2,
       "version_minor": 0
      },
      "text/plain": [
       "Pandas Apply:   0%|          | 0/5 [00:00<?, ?it/s]"
      ]
     },
     "metadata": {},
     "output_type": "display_data"
    },
    {
     "data": {
      "application/vnd.jupyter.widget-view+json": {
       "model_id": "e395f58bbc514957b632225105d3bad0",
       "version_major": 2,
       "version_minor": 0
      },
      "text/plain": [
       "Pandas Apply:   0%|          | 0/5 [00:00<?, ?it/s]"
      ]
     },
     "metadata": {},
     "output_type": "display_data"
    },
    {
     "data": {
      "application/vnd.jupyter.widget-view+json": {
       "model_id": "db0785736e704d8cbe8463fb221250d6",
       "version_major": 2,
       "version_minor": 0
      },
      "text/plain": [
       "Pandas Apply:   0%|          | 0/5 [00:00<?, ?it/s]"
      ]
     },
     "metadata": {},
     "output_type": "display_data"
    },
    {
     "data": {
      "application/vnd.jupyter.widget-view+json": {
       "model_id": "7b1b4f1f6f82471d91e63ad5d0d2de96",
       "version_major": 2,
       "version_minor": 0
      },
      "text/plain": [
       "Pandas Apply:   0%|          | 0/5 [00:00<?, ?it/s]"
      ]
     },
     "metadata": {},
     "output_type": "display_data"
    },
    {
     "data": {
      "application/vnd.jupyter.widget-view+json": {
       "model_id": "580b4a634c1544b2b0aaf4165832f091",
       "version_major": 2,
       "version_minor": 0
      },
      "text/plain": [
       "Pandas Apply:   0%|          | 0/5 [00:00<?, ?it/s]"
      ]
     },
     "metadata": {},
     "output_type": "display_data"
    },
    {
     "data": {
      "application/vnd.jupyter.widget-view+json": {
       "model_id": "7f50340630704f60bafff4e2fa214181",
       "version_major": 2,
       "version_minor": 0
      },
      "text/plain": [
       "Pandas Apply:   0%|          | 0/5 [00:00<?, ?it/s]"
      ]
     },
     "metadata": {},
     "output_type": "display_data"
    },
    {
     "data": {
      "application/vnd.jupyter.widget-view+json": {
       "model_id": "f5f3556d3d5348f1a9790af2a2c7faf3",
       "version_major": 2,
       "version_minor": 0
      },
      "text/plain": [
       "Pandas Apply:   0%|          | 0/5 [00:00<?, ?it/s]"
      ]
     },
     "metadata": {},
     "output_type": "display_data"
    },
    {
     "data": {
      "application/vnd.jupyter.widget-view+json": {
       "model_id": "26e4b6dcb8244af99108ac015cbd6d3c",
       "version_major": 2,
       "version_minor": 0
      },
      "text/plain": [
       "Pandas Apply:   0%|          | 0/5 [00:00<?, ?it/s]"
      ]
     },
     "metadata": {},
     "output_type": "display_data"
    },
    {
     "data": {
      "application/vnd.jupyter.widget-view+json": {
       "model_id": "8aa0cb3e189a4f63be1b8dd5cdd62955",
       "version_major": 2,
       "version_minor": 0
      },
      "text/plain": [
       "Pandas Apply:   0%|          | 0/5 [00:00<?, ?it/s]"
      ]
     },
     "metadata": {},
     "output_type": "display_data"
    },
    {
     "data": {
      "application/vnd.jupyter.widget-view+json": {
       "model_id": "02632078635b4c36a98b8e4d2b6b501e",
       "version_major": 2,
       "version_minor": 0
      },
      "text/plain": [
       "Pandas Apply:   0%|          | 0/5 [00:00<?, ?it/s]"
      ]
     },
     "metadata": {},
     "output_type": "display_data"
    },
    {
     "data": {
      "application/vnd.jupyter.widget-view+json": {
       "model_id": "6b11442528d24f4b959bd3d325e8e469",
       "version_major": 2,
       "version_minor": 0
      },
      "text/plain": [
       "Pandas Apply:   0%|          | 0/5 [00:00<?, ?it/s]"
      ]
     },
     "metadata": {},
     "output_type": "display_data"
    },
    {
     "data": {
      "application/vnd.jupyter.widget-view+json": {
       "model_id": "f014572a49e945f4b312d65e3a735acd",
       "version_major": 2,
       "version_minor": 0
      },
      "text/plain": [
       "Pandas Apply:   0%|          | 0/5 [00:00<?, ?it/s]"
      ]
     },
     "metadata": {},
     "output_type": "display_data"
    },
    {
     "data": {
      "application/vnd.jupyter.widget-view+json": {
       "model_id": "3eb0f0b50b9246ba856c858a10cf8296",
       "version_major": 2,
       "version_minor": 0
      },
      "text/plain": [
       "Pandas Apply:   0%|          | 0/5 [00:00<?, ?it/s]"
      ]
     },
     "metadata": {},
     "output_type": "display_data"
    },
    {
     "data": {
      "application/vnd.jupyter.widget-view+json": {
       "model_id": "db3f0355d76549be876197e1085ac33d",
       "version_major": 2,
       "version_minor": 0
      },
      "text/plain": [
       "Pandas Apply:   0%|          | 0/5 [00:00<?, ?it/s]"
      ]
     },
     "metadata": {},
     "output_type": "display_data"
    },
    {
     "data": {
      "application/vnd.jupyter.widget-view+json": {
       "model_id": "35c131439b9e4bb78582d5291ce40fe6",
       "version_major": 2,
       "version_minor": 0
      },
      "text/plain": [
       "Pandas Apply:   0%|          | 0/5 [00:00<?, ?it/s]"
      ]
     },
     "metadata": {},
     "output_type": "display_data"
    },
    {
     "data": {
      "application/vnd.jupyter.widget-view+json": {
       "model_id": "2fd3ca2b644f4a12b163a7cc00d80532",
       "version_major": 2,
       "version_minor": 0
      },
      "text/plain": [
       "Pandas Apply:   0%|          | 0/5 [00:00<?, ?it/s]"
      ]
     },
     "metadata": {},
     "output_type": "display_data"
    },
    {
     "data": {
      "application/vnd.jupyter.widget-view+json": {
       "model_id": "30fde8e9e53d4d0d82476bdad9c30ed2",
       "version_major": 2,
       "version_minor": 0
      },
      "text/plain": [
       "Pandas Apply:   0%|          | 0/5 [00:00<?, ?it/s]"
      ]
     },
     "metadata": {},
     "output_type": "display_data"
    },
    {
     "data": {
      "application/vnd.jupyter.widget-view+json": {
       "model_id": "eacafc7815294d8f9a9161a54e8c7141",
       "version_major": 2,
       "version_minor": 0
      },
      "text/plain": [
       "Pandas Apply:   0%|          | 0/5 [00:00<?, ?it/s]"
      ]
     },
     "metadata": {},
     "output_type": "display_data"
    },
    {
     "data": {
      "application/vnd.jupyter.widget-view+json": {
       "model_id": "e1b60f3aa064439ab87b48dd7663c213",
       "version_major": 2,
       "version_minor": 0
      },
      "text/plain": [
       "Pandas Apply:   0%|          | 0/5 [00:00<?, ?it/s]"
      ]
     },
     "metadata": {},
     "output_type": "display_data"
    },
    {
     "data": {
      "application/vnd.jupyter.widget-view+json": {
       "model_id": "d3ed1be0d78e4bc7831581f028109eb7",
       "version_major": 2,
       "version_minor": 0
      },
      "text/plain": [
       "Pandas Apply:   0%|          | 0/5 [00:00<?, ?it/s]"
      ]
     },
     "metadata": {},
     "output_type": "display_data"
    },
    {
     "data": {
      "application/vnd.jupyter.widget-view+json": {
       "model_id": "dbb06f2bb5464222ae5cc423c5b3be85",
       "version_major": 2,
       "version_minor": 0
      },
      "text/plain": [
       "Pandas Apply:   0%|          | 0/5 [00:00<?, ?it/s]"
      ]
     },
     "metadata": {},
     "output_type": "display_data"
    },
    {
     "data": {
      "application/vnd.jupyter.widget-view+json": {
       "model_id": "afcf318ab3b34ba1a97a12c5e1bd0b60",
       "version_major": 2,
       "version_minor": 0
      },
      "text/plain": [
       "Pandas Apply:   0%|          | 0/5 [00:00<?, ?it/s]"
      ]
     },
     "metadata": {},
     "output_type": "display_data"
    },
    {
     "data": {
      "application/vnd.jupyter.widget-view+json": {
       "model_id": "d52416da02cc473e87ee18e6c4e41a77",
       "version_major": 2,
       "version_minor": 0
      },
      "text/plain": [
       "Pandas Apply:   0%|          | 0/5 [00:00<?, ?it/s]"
      ]
     },
     "metadata": {},
     "output_type": "display_data"
    },
    {
     "data": {
      "application/vnd.jupyter.widget-view+json": {
       "model_id": "4b785d0a46b1436b9ae39b99a6273ea2",
       "version_major": 2,
       "version_minor": 0
      },
      "text/plain": [
       "Pandas Apply:   0%|          | 0/5 [00:00<?, ?it/s]"
      ]
     },
     "metadata": {},
     "output_type": "display_data"
    },
    {
     "data": {
      "application/vnd.jupyter.widget-view+json": {
       "model_id": "cf2ca445661d423abda3c3e1376c76e9",
       "version_major": 2,
       "version_minor": 0
      },
      "text/plain": [
       "Pandas Apply:   0%|          | 0/5 [00:00<?, ?it/s]"
      ]
     },
     "metadata": {},
     "output_type": "display_data"
    }
   ],
   "source": [
    "error_matrix=[]\n",
    "for i in range (1,21):\n",
    "    sse,run_time=kmeans_lyod_with_error(principal_component,5,10)\n",
    "    error_matrix.append([i,sse,run_time])\n",
    "error_matrix_df_pca= pd.DataFrame(error_matrix,columns=[ 'repetition','sse','run_time'])  \n",
    "error_matrix_df_pca.to_csv('error_matrix_df_pca.csv')\n"
   ]
  },
  {
   "cell_type": "code",
   "execution_count": 23,
   "id": "584a7f0e",
   "metadata": {},
   "outputs": [
    {
     "data": {
      "text/plain": [
       "11465730.680092001"
      ]
     },
     "execution_count": 23,
     "metadata": {},
     "output_type": "execute_result"
    }
   ],
   "source": [
    "error_matrix_df_pca['sse'].mean()"
   ]
  },
  {
   "cell_type": "code",
   "execution_count": 22,
   "id": "8d29e1c5",
   "metadata": {},
   "outputs": [
    {
     "data": {
      "text/plain": [
       "19045435.84364903"
      ]
     },
     "execution_count": 22,
     "metadata": {},
     "output_type": "execute_result"
    }
   ],
   "source": [
    "error_matrix_df['sse'].mean()"
   ]
  },
  {
   "cell_type": "code",
   "execution_count": 28,
   "id": "76581267",
   "metadata": {},
   "outputs": [
    {
     "data": {
      "image/png": "[encoded data removed]",
      "text/plain": [
       "<Figure size 432x288 with 1 Axes>"
      ]
     },
     "metadata": {
      "needs_background": "light"
     },
     "output_type": "display_data"
    }
   ],
   "source": [
    "combined_df = pd.concat([error_matrix_df_pca, error_matrix_df], keys=['after_pca', 'before_pca'])\n",
    "\n",
    "# create the boxplot\n",
    "plt.boxplot([combined_df.loc['after_pca']['sse'], combined_df.loc['before_pca']['sse']])\n",
    "plt.xticks([1, 2], ['after_pca', 'before_pca'])\n",
    "plt.ylabel('Sum of square error')\n",
    "plt.title('Box Plot for SSE before and after PCA using Kmeans')\n",
    "plt.show()"
   ]
  },
  {
   "cell_type": "code",
   "execution_count": null,
   "id": "eaf3861a",
   "metadata": {},
   "outputs": [],
   "source": []
  }
 ],
 "metadata": {
  "kernelspec": {
   "display_name": "Python 3 (ipykernel)",
   "language": "python",
   "name": "python3"
  },
  "language_info": {
   "codemirror_mode": {
    "name": "ipython",
    "version": 3
   },
   "file_extension": ".py",
   "mimetype": "text/x-python",
   "name": "python",
   "nbconvert_exporter": "python",
   "pygments_lexer": "ipython3",
   "version": "3.9.8"
  }
 },
 "nbformat": 4,
 "nbformat_minor": 5
}
